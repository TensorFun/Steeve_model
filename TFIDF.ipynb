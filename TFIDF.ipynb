{
 "cells": [
  {
   "cell_type": "code",
   "execution_count": 14,
   "metadata": {
    "collapsed": true
   },
   "outputs": [],
   "source": [
    "# Calc TFIDF scores\n",
    "from collections import defaultdict\n",
    "from sklearn.feature_extraction.text import TfidfTransformer, CountVectorizer\n",
    "\n",
    "class TFIDF:\n",
    "    \n",
    "    def __init__(self, raw_doc):\n",
    "        '''\n",
    "        Params: 3-d array [[[], []], [[], []]]\n",
    "        '''\n",
    "        doc = []\n",
    "        for field in raw_doc:\n",
    "            doc.append(' '.join([ pl for post in field for pl in post])) # flatten and to string\n",
    "\n",
    "        vectorizer  = CountVectorizer(min_df=1, token_pattern=r'[\\w\\+\\.#-]+')  # 該類會將文本中的詞語轉換為詞頻矩陣，矩陣元素a[i][j] 表示j詞在i類文本下的詞頻  \n",
    "        transformer = TfidfTransformer()                                       # 該類會統計每個詞語的tf-idf權值  \n",
    "        tfidf = transformer.fit_transform(vectorizer.fit_transform(doc))       # 第一個fit_transform是計算tf-idf，第二個fit_transform是將文本轉為詞頻矩陣  \n",
    "\n",
    "        words  = vectorizer.get_feature_names()                                # 獲取詞袋模型中的所有詞語  \n",
    "        weight = tfidf.toarray()                                               # 將tf-idf矩陣抽取出來，元素a[i][j]表示j詞在i類文本中的tf-idf權重  \n",
    "\n",
    "        tfidf_score = defaultdict(lambda: defaultdict())\n",
    "        for i in range(len(weight)):                                           # 打印每類文本的tf-idf詞語權重，第一個for遍歷所有文本，第二個for便利某一類文本下的詞語權重  \n",
    "            for j in range(len(words)):\n",
    "                tfidf_score[i][words[j]] = weight[i][j]\n",
    "\n",
    "        self.tfidf_dict = tfidf_score\n",
    "        self.tfidf_list = tfidf_score.items()\n",
    "        self.words = words\n",
    "               \n",
    "    \n",
    "    def get_tfidf(self):\n",
    "        '''\n",
    "        Returns:\n",
    "        tfidf_dict: dict[field_index[pl]] = score\n",
    "        words: all words in tfidf_score\n",
    "        '''\n",
    "        return self.tfidf_dict, self.words\n",
    "    \n",
    "\n",
    "    def predict_field(self, post):\n",
    "        '''\n",
    "        Params: ['pl_A', 'pl_B', 'pl_C']\n",
    "\n",
    "        Returns: predicted field index\n",
    "        '''\n",
    "        scores = []\n",
    "        for field, score_table in self.tfidf_list:\n",
    "            scores.append((field, sum([score_table[pl] for pl in post if pl in self.words])))\n",
    "\n",
    "        try:\n",
    "            return max(scores, key=lambda x: x[1])\n",
    "        except:\n",
    "            return 0 # 不知道答案則猜 0 \n"
   ]
  },
  {
   "cell_type": "code",
   "execution_count": 17,
   "metadata": {},
   "outputs": [],
   "source": [
    "# ### How to use\n",
    "\n",
    "# doc = [\n",
    "#     [\n",
    "#         ['pl', 'abc'],\n",
    "#         ['a', 'b']\n",
    "#     ],\n",
    "#     [\n",
    "#         ['c','d']\n",
    "#     ]\n",
    "# ]\n",
    "# post = ['a']\n",
    "\n",
    "# Predict = TFIDF(doc)\n",
    "# tfidf_scores, words = Predict.get_tfidf()\n",
    "# predict_field = Predict.predict_field(post)\n",
    "# predict_field"
   ]
  },
  {
   "cell_type": "code",
   "execution_count": null,
   "metadata": {
    "scrolled": true
   },
   "outputs": [],
   "source": []
  },
  {
   "cell_type": "code",
   "execution_count": null,
   "metadata": {
    "collapsed": true
   },
   "outputs": [],
   "source": []
  }
 ],
 "metadata": {
  "kernelspec": {
   "display_name": "Python 3",
   "language": "python",
   "name": "python3"
  },
  "language_info": {
   "codemirror_mode": {
    "name": "ipython",
    "version": 3
   },
   "file_extension": ".py",
   "mimetype": "text/x-python",
   "name": "python",
   "nbconvert_exporter": "python",
   "pygments_lexer": "ipython3",
   "version": "3.6.3"
  }
 },
 "nbformat": 4,
 "nbformat_minor": 2
}
