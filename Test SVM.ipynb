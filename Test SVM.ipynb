{
 "cells": [
  {
   "cell_type": "markdown",
   "metadata": {},
   "source": [
    "# Get Clean Merged and Seperate PL Data"
   ]
  },
  {
   "cell_type": "code",
   "execution_count": 41,
   "metadata": {
    "collapsed": true
   },
   "outputs": [],
   "source": [
    "import os, json\n",
    "from pl_module import get_pl_keywords"
   ]
  },
  {
   "cell_type": "code",
   "execution_count": 42,
   "metadata": {
    "collapsed": true
   },
   "outputs": [],
   "source": [
    "Raw_Data_dir = \"./Raw_Data/\"\n",
    "Data_dir = \"./Data/\"\n",
    "\n",
    "all_data_path = \"./data.txt\""
   ]
  },
  {
   "cell_type": "code",
   "execution_count": 43,
   "metadata": {},
   "outputs": [
    {
     "name": "stdout",
     "output_type": "stream",
     "text": [
      "security engineer 776\n",
      "android engineer 433\n",
      "Backend 394\n",
      "Frontend 831\n"
     ]
    }
   ],
   "source": [
    "# ['jobID', 'jobTitle', 'jobEmployer', 'jobLocation', 'jobPostTime', 'skills', 'employmentType', 'baseSalary', 'jobDescription', 'url']\n",
    "\n",
    "w = open(all_data_path, \"w\", encoding='utf8')\n",
    "raw_files = os.listdir(Raw_Data_dir)\n",
    "for file in raw_files:\n",
    "    if file.startswith(\".\"): continue # skip .ipynb_checkpoints/ file\n",
    "\n",
    "    ws = open(Data_dir + file + \".txt\", \"w\", encoding=\"utf8\")\n",
    "    content = json.loads(open(Raw_Data_dir + file).read())\n",
    "    for field in content:\n",
    "        print(field, len(content[field]))\n",
    "        \n",
    "        for each in content[field]:\n",
    "            keywords = get_pl_keywords(each[\"jobDescription\"])\n",
    "                   \n",
    "            ws.write(' '.join(keywords) + \"\\n\")\n",
    "            w.write(' '.join(keywords) + \"\\n\")\n",
    "\n",
    "    ws.close()\n",
    "w.close()"
   ]
  },
  {
   "cell_type": "markdown",
   "metadata": {},
   "source": [
    "# Get Vector for Used Words by Subprocess (NOT WORKING)"
   ]
  },
  {
   "cell_type": "code",
   "execution_count": null,
   "metadata": {},
   "outputs": [],
   "source": [
    "# import subprocess\n",
    "# subprocess.run([\"/opt/fastText/fasttext\", \"print-word-vectors\", \"../wiki.en.bin\", \"<\", \"data.txt\", \">\", \"used.words.vec\"])\n",
    "# # Not working\n",
    "\n",
    "/opt/fastText/fasttext print-word-vectors wiki.en.bin < Steeve_model/data.txt > used.words.vec"
   ]
  },
  {
   "cell_type": "markdown",
   "metadata": {},
   "source": [
    "# Read Model"
   ]
  },
  {
   "cell_type": "code",
   "execution_count": 44,
   "metadata": {
    "collapsed": true
   },
   "outputs": [],
   "source": [
    "import numpy as np"
   ]
  },
  {
   "cell_type": "code",
   "execution_count": 45,
   "metadata": {
    "collapsed": true
   },
   "outputs": [],
   "source": [
    "def read_model(path):\n",
    "    fs = open(path, \"r\", encoding='utf8')\n",
    "    \n",
    "    model = {}\n",
    "    for line in fs:\n",
    "        each = line.strip().split(\" \")\n",
    "        model[each[0]] = np.array(each[1:]).astype(np.float32)\n",
    "    return model\n",
    "\n",
    "model_path = '../used.words.vec'\n",
    "model = read_model(model_path)"
   ]
  },
  {
   "cell_type": "markdown",
   "metadata": {},
   "source": [
    "# Convert to Vector"
   ]
  },
  {
   "cell_type": "code",
   "execution_count": 46,
   "metadata": {},
   "outputs": [],
   "source": [
    "def para_2_vector(string):\n",
    "    tokens = string.strip().split(\" \")\n",
    "    \n",
    "    para_vec = np.zeros(300)\n",
    "    for t in tokens:\n",
    "        if t == '': continue\n",
    "            \n",
    "        para_vec += model[t]\n",
    "    return para_vec"
   ]
  },
  {
   "cell_type": "code",
   "execution_count": 47,
   "metadata": {},
   "outputs": [],
   "source": [
    "X = []\n",
    "y = []\n",
    "labels = {}\n",
    "\n",
    "files = os.listdir(Data_dir)\n",
    "for i, file in enumerate(files):\n",
    "    if file.startswith(\".\"): continue\n",
    "    \n",
    "    labels[i] = file    \n",
    "    for line in open(Data_dir + file, \"r\", encoding='utf8'):\n",
    "        vec = para_2_vector(line)\n",
    "        X.append({\"vec\": vec, \"src\": line})\n",
    "        y.append(i)"
   ]
  },
  {
   "cell_type": "markdown",
   "metadata": {},
   "source": [
    "# Seperate to Training and Testing Data"
   ]
  },
  {
   "cell_type": "code",
   "execution_count": 48,
   "metadata": {},
   "outputs": [
    {
     "name": "stdout",
     "output_type": "stream",
     "text": [
      "Training data length: 1947, Test data length: 487\n"
     ]
    }
   ],
   "source": [
    "from sklearn.model_selection import train_test_split\n",
    "\n",
    "train_X, test_X, train_y, test_y = train_test_split(X, y, test_size = 0.2)\n",
    "\n",
    "print(\"Training data length: {}, Test data length: {}\".format(len(train_X), len(test_X)))"
   ]
  },
  {
   "cell_type": "markdown",
   "metadata": {},
   "source": [
    "# Train and Predict"
   ]
  },
  {
   "cell_type": "code",
   "execution_count": 49,
   "metadata": {},
   "outputs": [
    {
     "name": "stdout",
     "output_type": "stream",
     "text": [
      "0.845995893224\n"
     ]
    }
   ],
   "source": [
    "from sklearn import svm, metrics\n",
    "\n",
    "# 建立 SVC 模型\n",
    "svc = svm.SVC()\n",
    "temp_X = list(map(lambda el: el[\"vec\"], train_X))\n",
    "svc_fit = svc.fit(temp_X, train_y)\n",
    "\n",
    "# 預測\n",
    "temp_X = list(map(lambda el: el[\"vec\"], test_X))\n",
    "_y = svc.predict(temp_X)\n",
    "\n",
    "# 準確\n",
    "acc = metrics.accuracy_score(test_y, _y)\n",
    "print(acc)"
   ]
  },
  {
   "cell_type": "code",
   "execution_count": 50,
   "metadata": {},
   "outputs": [
    {
     "name": "stdout",
     "output_type": "stream",
     "text": [
      "Answer: Security, Predict: Frontend\n",
      "mobile mobile security android ios android ios mobile security this mobile testing mobile security mobile database mobile security mobile security testing mobile security security security this position security mobile security Python php javascript android mobile security click HERE position this position click this email search\n",
      "\n",
      "Answer: andriod, Predict: Frontend\n",
      "Java kernel android kernel android frameworks android Java interface linux android android android android android kernel Java android this position android Java Java android kernel kernel android frameworks package android package frameworks android Java interface jni linux rest android click HERE position this position click this email search\n",
      "\n",
      "Answer: andriod, Predict: Frontend\n",
      "android kotlin Java cloud 3d maps maps include android android process android package Java android android c android frameworks time android this position android Java background spring frameworks kotlin design performance bluetooth c c++ android kotlin click HERE position this position click this email search\n",
      "\n",
      "Answer: Backend, Predict: Frontend\n",
      ".net c# sql wpf winforms soap rest client winforms join winforms include design build this .net winforms this call com .net c# wpf sql winforms soap rest\n",
      "\n",
      "Answer: Backend, Predict: Frontend\n",
      "position Polymer stack javascript angular Polymer Java Java Java module migration transactions this service design Java spring hibernate jpa soap rest web oracle sql c stack angular Polymer c com\n",
      "\n",
      "Answer: Frontend, Predict: andriod\n",
      "this time\n",
      "\n",
      "Answer: Backend, Predict: Frontend\n",
      "position ruby location position set model time this Now stack join workflow ruby rspec reactjs redux css3 html5 elixir design linux tdd position design design user build components testing performance web ruby Nodejs elixir Python web performance testing node.js web performance containers docker kubernetes logging New Relic stack elasticsearch Kibana accessibility localization this time\n",
      "\n",
      "Answer: Backend, Predict: Frontend\n",
      "c# .net sql server c++ c# c# this Now c# this position c# runtime .net c++ sql server time location c# click HERE position this position click this email search\n",
      "\n",
      "Answer: Backend, Predict: Frontend\n",
      "chef PostgreSQL javascript c# c++ Nodejs server server view build system real-time system system this position cloud chef server PostgreSQL MongoDB Nodejs Windows Server linux api ffmpeg server javascript c# c++ package set server click HERE position this position click this email search\n",
      "\n",
      "Answer: Backend, Predict: Frontend\n",
      "server Java stack Java stack Java Java set html css javascript javascript angular build automation gulp sass css angular html5 web design testing testing client service testing call this server Java Java concurrency Java concurrency memory object design design Java frameworks spring hibernate UNIX linux shell scripting sql nosql orm stack Java Java Java hibernate spring Java concurrency memory concurrency UNIX oracle database html css javascript angularjs reactjs stack Java Java css sql structure git React rest Java Java oracle nosql server oracle nosql com\n",
      "\n",
      "Answer: andriod, Predict: Backend\n",
      "Java size iteration testing testing frameworks\n",
      "\n",
      "Answer: Backend, Predict: Frontend\n",
      "design .net stack c# sql azure Play this Connect com key components design build submit com call include .net stack salesforce search nlp\n",
      "\n",
      "Answer: Backend, Predict: Frontend\n",
      "client Java this position server Java processing apache stream spring cloud stream apache apache testing spring time performance sql database shell UNIX focus web angularjs jquery css javascript frameworks spring integration security Java web reference client call client orientation\n",
      "\n",
      "Answer: Backend, Predict: Frontend\n",
      "client join testing node.js frameworks cloud cloud heroku cloud this position configuration deployment design cloud node.js design tdd testing security configuration heroku salesforce service cloud heroku Connect design design set deployment cloud web frameworks angular system testing node.js frameworks .net frameworks javascript node.js frameworks Express web rest oauth json design mobile output match git object this position com .net rest json node.js\n",
      "\n",
      "Answer: Backend, Predict: Frontend\n",
      "Python ruby web Python ruby video report youtube Facebook instagram twitter join this Python ruby position build design architecture this position web dynamic Python ruby build system performance system security Now build Python ruby click HERE position this position click this email search\n",
      "\n",
      "Answer: Backend, Predict: Frontend\n",
      "php web join integration server configuration structure build order build order time Magento design web user focus constraints web build web build api Magento Magento build cross-browser cross-platform security scripting date server resources path Java design design database server function php xml xhtml html ajax jquery oop Java web xml soap json wsdl xml php javascript Java mysql linux performance web interface design xhtml css join package Play e-commerce\n",
      "\n",
      "Answer: Security, Predict: Frontend\n",
      "this focus security security logic field security testing testing security security date security security field web testing web security xss authentication protocols oauth ldap javascript Python Perl Java c c++ browser security model mobile security security cryptography cloud cloud azure e-commerce security security get real-time click HERE go website http com rest package time chef stack Python this position email pdf format com this security Homeland security authorization go http com\n",
      "\n",
      "Answer: andriod, Predict: Backend\n",
      "class filtering windows ios android this field object process frameworks c c++ Java swift set sql mysql deployment performance\n",
      "\n",
      "Answer: andriod, Predict: Frontend\n",
      "this client mobile this com mobile location Java ruby android ios javascript html css sass build deployment call components browser client html css javascript server database Java ruby ios android mobile ios android android mobile web mobile design linux sql\n",
      "\n",
      "Answer: andriod, Predict: Frontend\n",
      "xamarin android client xamarin android join this xamarin mobile mobile system documentation design c# .net xamarin call website com Linkedin HERE https Linkedin com this time\n",
      "\n",
      "Answer: andriod, Predict: Frontend\n",
      "service include service website com process android ios mobile find position this position this position android ios mobile location mobile testing mobile ionic React Play mobile mobile testing web mobile ios android mobile web http rest soap json xml javascript jquery angular React ios android sdk find this position this position com com go this\n",
      "\n",
      "Answer: Backend, Predict: Frontend\n",
      "share web stack client web .net webforms .net sql server client web html5 Vanilla jquery React redux integration build process git bitbucket jira task documentation chat asp.net c# entity linq .net wcf api sql server sql database design oop design testing position join package\n",
      "\n",
      "Answer: andriod, Predict: Frontend\n",
      "security find mobile join mobile user mobile html angular mobile frameworks mobile this range match android ios process build design mobile android ios cordova frameworks mobile javascript angularjs Nodejs typescript cordova background .net Java testing frameworks github user orientation field design frameworks set system system frameworks design size action resources orientation views set set resources time resources\n",
      "\n",
      "Answer: Backend, Predict: Frontend\n",
      "join c# .net .net asp.net object sql server MongoDB redis com com field c# .net .net object concurrency c# sql server MongoDB redis web frameworks asp.net web json soap design runtime testing git integration cloud web web authentication Connect email com\n",
      "\n",
      "Answer: Security, Predict: Frontend\n",
      "security response location security client security key response security focus this position response security controls this position security this key security security response security this security security security security response security response security coordinates security response response filtering web filtering security security security controls security security security controls security security security response security matrix process response system linux networking security security testing scripting Python powershell security security security security scripting system\n",
      "\n",
      "Answer: Backend, Predict: Frontend\n",
      "c c++ tcp ip linux kernel line Now time cloud line performance c c++ client performance build this position design c c++ tcp ip protocols linux kernel stack networking c c++ click HERE position this position click this email search\n",
      "\n",
      "Answer: Backend, Predict: Frontend\n",
      "Python Java MongoDB ruby linux cloud go Nodejs mobile location location operators server stack Nodejs MongoDB cloud web frontend reactjs ios swift github this position Python ruby Java javascript Nodejs mysql nosql MongoDB redis cloud cloud location click HERE position this position click this email search\n",
      "\n",
      "Answer: Backend, Predict: Frontend\n",
      ".net client c# client position this focus build service this web build this .net c# web web api sql tsql sql server json xml javascript nosql email com condition orientation\n",
      "\n",
      "Answer: Security, Predict: andriod\n",
      "\n",
      "\n",
      "Answer: andriod, Predict: Frontend\n",
      "com com android view mobile Play android Java javascript mobile design api rest json xml integration user mobile design task cell com process report process system database c++ Python cloud linux UNIX chef ansible sql nosql scripting php ruby Python node.js chef ansible api Connect networking networking rust Scala haskell erlang c c++ Python android .net ajax android api asp.net css html ios javascript mobile object sql sql server tdd android Java mobile security testing automation documentation integration android android sdk connection tcp design build android server design api debugging gdb git ios server c c++ c mysql Amazon EC2 Amazon S3 html5 UNIX max tcp ip stack video set android android android android android android android android android android android android android android android android android android android android android android android android android android android android android android android android android android android android android android android android android android android android android android android android android android android android android android android android android android android android android android android android android android android android android android android android android android android android android android android android android android android android android android android android android android android android android android android android android android android android android android android android android android android android android android android android android android android android android android android android android android android android android android android android android android android android android android android android android android android android android android android android android android android android android android android android android android android android android android android android android android android android android android android android android android android android android android android android android android android android android android android android android android android android android android android android android android android android android android android android android android android android android android android android android android android android android android android android android android android android android android android android android android android android android android android android android android android android android android android android android android android android android android android android android android android android android android android android android android android android android android android android android android android android android android android android android android android android android android android android android android android android android android android android android android android android android android android android android android android android android android android android android android android android android android android android android android android android android android android android android android android android android android android android android android android android android android android android android android android android android android android android android android android android android android android android android android android android android android android android android android android android android android android android android android android android android android android android android android android android android android android android android android android android android android android android android android android android android android android android android android android android android android android android android android android android android android android android android android android android android android android android android android android android android android android android android android android android android android android android android android android android android android android android android android android android android android android android android android android android android android android android android android android android android android android android android android android android android android android android android android android android android android android android android android android android android android android android android android android android android android android android android android android android android android android android android android android android android android android android android android android android android android android android android android android android android android android android android android android android android android android android android android android android android android android android android android android android android android android android android android android android android android android android android android android android android android android android android android android android android android android android android android android android android android android android android android android android android android android android android android android android android android android android android android android android android android android android android android android android android android android android android android android android android android android android android android android android android android android android android android android android android android android android android android android android android android android android android android android android android android android android android android android android android android android android android android android android android android android android android android android android android android android android android android android android android android android android android android android android android android android android android android android android android android android android android android android android android android android android android android android android android android android android android android android android android android android android android android android android android android android android android android android android android android android android android android android android android android android android android android android android android android android android android android android android android android android android android android android android android android android android android android android android android android android android android android android android android android android android android android android android android android android android android android android android android android android android android android android android android android android android android android android android android android android android android android android android android android android android android android android android android android android android android android android android android android android android android android android android android android android android android android android android android android android android android android android android android android android android android android android android android android android android android android android android android android android android android android android android android android android android android android android android android android android android android android android android android android android android android android android android android android android android android android android android android android android android android android android android android android android android android android android android android android android android android android android android android android android android android android android android android android android android android android android android android android android android android android android android android android android android android android android android android android android android android android android android android android android android android android android android android android android android android android android android android android android android android android android android android android android android android android android android android android android android android android android android android android android android android android android android android android android android android android android android android android android android android android android android android android android android android android android android android android android android android android android android android android android android android android android android android android android android android android android android android android android android android android android android android android android android android android android android android android android android android android android android android android android android android android android android android android android android android android android android android android android android android android android android android android android android android android android android android android android android android android android android android android android android android android android android android android android android android android android android android android android android android android android android android android android android android android android android android android android android android android android android android android android android android android android android android android android android android android android android android android android android android android android android android android android android android android android android android android android android android android android android android android android android android android android android android android android android android android android android android android android android android android android android android android android android android android android android android android android android android android android android android android android android android android android android android android android android android android android android android android android android android android android android android android android android android android android android android android android android android android android android android android android android android android android android android android android android android android android android android android android android android android android android android android android android android android android android android android android android android android android android android android android android android android android android android android android android android android android android android android android android android android android android android android android android android android android android android android android android android android android android android android android android android android android android android android android android android android android android android android android android android android android android android android android android android android android android android android android android android android android android android android android android android android android android android android android android android android android android android android android android android android android android android android android android android android android android android android android android android android android android android android android android android android android android android android android android android android android android android android android android android android android android android android android android android android android android android android android android android android android android android android android android android android android android android android android android android android android android android android android android android android android android android android android android android android android android android android android android android android android android android android android android android android android android android android android android android android android android android android android android android android android android android android android android android android android android android android android android android android android android android android android android android android android android android android android android android android android android android android android android android android android android android android android android android android android android android android android android android android android android android android android android android android android android android android android android android android android android android android android android android android android android android android android android android android android android android android android android android android android android android android android android android android android android android android android android android android android android android android android android android android android android android android android android android android android android android android android android android android android android android android android android android android android android android android android android android android android android android android android android android android android android android android android android android android android android android android android android android android android android android android android android android android android android android android android android android android android android android android android android android android android android android android android android android android android android android android android android android android android android android android android android android android android android android android android android android android android android android android android android android android android android android android android android android android android android android android android android android android android android android android android android android android android android android android android android android android android android android android android android android android android android android android android android android android android android android android android android android android android android android android android android android android android android android android android android android android android android android android android android android android android android android android android android android android android android android android android android android android android android android android android android android android android android android android android android android android android android android android android android android android android android android android android android android android android android android android android android android android android android android android android android android android android android android android android android android android android android android android android android android android android android android android android android android android android android android android android android android android android android android android android android android android android android android android android android android android android android android android android android android android android android android android android android android android android android android android android android android android android android android android android android android android android android android android android android android android android android android android android android android android android android android android android android android android android android android android android android android android android android android android android android android android android android android android android android android android android android android android android android android android android android android android android android android android android android android android android android android android android android android android android android android android android android android android android android android android android android android android android android android android android android android android android android android android android android android android android android android android android android android android android android android android android android android android android android android android android android android android android android android android android android android android android android android android android android android android android android android android android android android android android android android android android android android android android android android android android android android android android android android android android android android android android android android android android android android android android android android android android android android android android android android android android android android android android android android android android android android android android android android android android android android android android android android android android android android android android android android android android android android android android android android android android android android android android android android android android android android android android android android android android android android android android android android android android android android android android android android android android android android android android android android android android android android android android android android android android android android android android android android android android android android android android android android android android android android android android android android android android android android android android android android android android android android android android android android android android android android android android android android android android android android android android android android android android android android android android android android android android android android android android android android android android android android android android android android android android android android android android android android android android android android android android android android android android android android android android android android android android android android android android android android android android android android android android android android\n",
      "\n",
      "Answer: Backend, Predict: Frontend\n",
      "node.js Java mobile node.js node.js mobile video get mobile design build this position stack node.js linux cloud mobile nosql MongoDB redis docker containers build click HERE position this position click this email search\n",
      "\n",
      "Answer: Backend, Predict: Frontend\n",
      "Java api Scala mysql amazon web Java Scala build cloud Java Scala location build cloud web performance architecture cloud cloud protocols api numbers cloud amazon web this position Java Scala cloud akka search cassandra mysql cloud architecture hadoop mapreduce click HERE position this position click this email search\n",
      "\n",
      "Answer: Backend, Predict: Frontend\n",
      "node.js sql PostgreSQL Nodejs mobile node.js package performance node.js ios android algorithm design build class time deployment workflow process this position node.js debugging profiling ios android sql redis elasticsearch mobile architecture design ios sdk swift android ios android click HERE position this position click this email search\n",
      "\n",
      "Answer: Backend, Predict: Frontend\n",
      "e-commerce components order client e-commerce client include processing order range user user e-commerce frameworks field Scala c c++ Java javascript Python ruby bash linux jvm web frameworks spring Play frontend web load Hybris websphere processing order\n",
      "\n",
      "Answer: Security, Predict: Frontend\n",
      "Play resources automation cloud security service order date this process testing performance optimization refactoring debugging components networking service integration date open-source http github com share http com join Planet field Nodejs Scala Java logging cloud cloud cloud heroku cloud docker deployment stack storage\n",
      "\n",
      "Answer: andriod, Predict: Frontend\n",
      "client design testing documentation configuration system views security performance cloud android android architecture security networking user input output compilation debugging javascript Java rest json xml integration sql networking protocols tcp udp real-time database location processing\n",
      "\n",
      "Answer: andriod, Predict: Frontend\n",
      "client android mobile ios call client version client ios swift android Java ios objective-c swift ios swift objective-c swift swift rest soap security user encryption process this less time process position client mobile service client position client client time mobile client client client mobile client mobile client ios android architecture debugging deployment refactoring integration testing time input design documentation documentation mobile c Java c# android iteration testing c# Java c c++ javascript ruby Python git soap web email documentation regression testing join get\n",
      "\n",
      "Answer: Security, Predict: Frontend\n",
      "encryption key security position client jersey encryption process design encryption key encryption encryption key encryption key this networking database architecture security encryption encryption encryption encryption key encryption encryption encryption encryption security encryption line encryption encryption dependencies encryption encryption security encryption key encryption key oracle cryptography windows linux database networking storage system windows linux Medium encryption methods rest security key encryption methods client server key certificate methods ip design encryption key encryption encryption key security field security this client this get get time time Connect Connect jersey website com time email com url com\n",
      "\n",
      "Answer: andriod, Predict: Frontend\n",
      "ios android location position security client join this security this this position command components design Java ios design build ios objective-c cocoa touch xcode performance design android mobile mobile ios android this mobile Java c++ c ios sdk cocoa swift android sdk eclipse xcode key math field\n",
      "\n",
      "Answer: Backend, Predict: Frontend\n",
      "Java nosql frameworks console cloud location package package package design performance streaming stack this position server design networking Java Java Python nosql PostgreSQL hbase hadoop MongoDB redis elasticsearch frameworks jms rabbitmq streaming processing frameworks docker kubernetes click HERE position this position click this email search\n",
      "\n",
      "Answer: Backend, Predict: Frontend\n",
      "field mobile web Java design deployment apache rest web-services spring hibernate oracle nosql hadoop hive web Java Python testing service architecture web nosql storage MongoDB elasticsearch hive cassandra hadoop date this action Medium design call com r range\n",
      "\n",
      "Answer: Backend, Predict: Frontend\n",
      "web design web client website build design design find web security architecture frontend .net web jira object oop design rest soap user interface version integration deployment architecture size testing website design repository website Sitecore\n",
      "\n",
      "Answer: Backend, Predict: Frontend\n",
      "Python system testing sql nosql javascript docker kubernetes linux Python build logic build system Connect include web mobile this position architecture interface cloud this position Python Python security c++ Java this position Python Python Python c++ Java object design system testing security sql nosql field cryptography javascript React React Python c++ PostgreSQL docker linux join time class field Python click HERE position this position click this email search\n",
      "\n",
      "Answer: andriod, Predict: Frontend\n",
      "service this android join this join user HERE include package android android focus android integration design build performance Java performance android sdk api android Java Play rest Connect android android design storage performance design user touch open-source android cloud push notifications optimization android design interface build integration testing static integration Java eclipse git jira ios web this position email com this website unique\n",
      "\n",
      "Answer: Backend, Predict: Frontend\n",
      "Java position client processing real-time user Java sql Java Java sql linux Java spring linux shell scripting design architecture performance debugging this client this get get time time Connect Connect jersey website com time email com url com\n",
      "\n",
      "Answer: Backend, Predict: Frontend\n",
      "Java spring web soap docker sql jpa nosql processing Java unique model join Java build transactions events user this position Java stack Java spring web database sql jpa nosql processing testing Java this click HERE position this position click this email search\n",
      "\n",
      "Answer: Backend, Predict: Security\n",
      "frontend ansible web Scala web Java security system security rest ssl storage this security\n",
      "\n",
      "Answer: andriod, Predict: Frontend\n",
      "android javascript Java rest api web sql server stack api html mobile ios android design integration web database this position certificate React Java rest sql server tomcat weblogic mobile click HERE position this position click this email search\n",
      "\n",
      "Answer: Frontend, Predict: Backend\n",
      "location angular Java this position com call\n",
      "\n",
      "Answer: andriod, Predict: Frontend\n",
      "branch client android cordova javascript location android cordova javascript javascript ios mobile integration cordova android mobile mobile android cordova build android Now touch android security Java plugins cordova ios android plugins Play debugging plugins testing mobile android cordova this join com jersey website com\n",
      "\n",
      "Answer: Backend, Predict: Frontend\n",
      "matrix matrix location Python Java Python frameworks flask Django cloud design Python testing integration UNIX linux stack documentation automation integration user date Ckan http Ckan apache http apache https github com Linkedin apache key Python Java Python frameworks Django flask cloud UNIX linux\n",
      "\n",
      "Answer: Frontend, Predict: Backend\n",
      "this position time design web Java Java sql process devise Java spring tomcat rest jdbc spring maven angularjs Bootstrap d3.js sql field security\n",
      "\n",
      "Answer: Backend, Predict: Frontend\n",
      "this javascript angular typescript c# wpf angular typescript c# .net wpf api Java key this position cell c com com\n",
      "\n",
      "Answer: Backend, Predict: Frontend\n",
      "position client design performance api big-o integration realm cloud performance Java web Java spring hibernate jdbc nosql persistence cloud lambda cloud automation debugging performance field this client this get get time time Connect Connect jersey website com time email com url com\n",
      "\n",
      "Answer: Backend, Predict: Frontend\n",
      "Java web Java web join this web Java Java spring spring hibernate spring this this linux git jenkins integration React redux this class Java web Java version spring spring web spring hibernate orm git com\n",
      "\n",
      "Answer: Backend, Predict: Frontend\n",
      "client position this position copy this this this position php mysql html css linux admin ssh view csv xml parsing api rest api design\n",
      "\n",
      "Answer: Backend, Predict: Frontend\n",
      "client Python scripting Python Python Django html javascript web http rest soap json api Python powershell bash javascript processing version tfs git database PostgreSQL oracle mysql MongoDB\n",
      "\n",
      "Answer: Security, Predict: Frontend\n",
      "this focus security service design join transform design build security cloud security security server windows linux networking storage security build response security security security security security tcp ip security response security windows linux server security user cloud security amazon web security linux UNIX windows security architecture security documentation get real-time click HERE go website http com rest package time chef stack Python this position email pdf format com this security Homeland security authorization go http com\n",
      "\n",
      "Answer: Frontend, Predict: Backend\n",
      "Java Java html Java angular jsf spring\n",
      "\n",
      "Answer: Backend, Predict: Frontend\n",
      "c c++ Perl Python processing build class design architecture performance architecture 3d image processing build image processing object classification localization mapping protocols real-time processing 3d image filtering this position real-time 3d cloud c c++ awk Python Perl click HERE position this position click this email search\n",
      "\n",
      "Answer: andriod, Predict: Security\n",
      "security android mobile security get double security submit github android Java android android dynamic service dynamic mobile android android design set security design security focus security set include service field this chat\n",
      "\n",
      "Answer: Backend, Predict: Frontend\n",
      "search design build api client server include build design rest testing process web testing frameworks rspec cucumber Ruby on Rails automation testing React node.js linux chef ansible range position position search submit process position search search HERE HERE get get Now com\n",
      "\n",
      "Answer: andriod, Predict: Frontend\n",
      "Java location rest soap api json oauth Java web android android apache web server JBoss Application Server deployment UNIX system oracle mysql sql html css angular ajax javascript spring hibernate jpa server deployment android field system architecture server configuration web jira system git jenkins bitbucket ant maven amazon web android android\n",
      "\n",
      "Answer: andriod, Predict: Frontend\n",
      "android svn automation interface design integration web integration design android object design Java android android sdk fragment android views android performance field retrofit android architecture android binding kotlin linux UNIX web Java android sdk retrofit android architecture android binding kotlin linux\n",
      "\n",
      "Answer: Backend, Predict: Frontend\n",
      "this time com this Java soap web Java security HERE design Java com mobile user design this include Java components jms json html xml javascript redux angular jquery React Bootstrap web soap websphere orm hibernate jpa oracle sql server jms server jboss testing eclipse windows this position Java Java web rest javascript html css xml spring hibernate websphere\n",
      "\n",
      "Answer: andriod, Predict: Frontend\n",
      "mobile c++ android key mobile mobile design mobile mobile key position design mobile mobile android Windows CE mobile performance input audio mobile terminal emulation mobile r c++ client mobile android c++ Java c# android mobile windows mobile ios Sphinx bluetooth design mobile xamarin database package match join Now com mobile return real-time mobile dynamic\n",
      "\n",
      "Answer: Backend, Predict: Frontend\n",
      "Java Scala mysql architecture api design api containers docker kubernetes git jenkins chef html css javascript Scala architecture design build class components documentation deployment this position Java Scala architecture api design mysql elasticsearch redis hbase api rabbitmq tomcat PostgreSQL jenkins chef html css javascript Scala click HERE position this position click this email search\n",
      "\n",
      "Answer: Backend, Predict: Frontend\n",
      "amazon web docker cloud deployment architecture jenkins build real-time match get time time real-time time cloud cloud deployment performance optimization design architecture processing docker amazon cloud architecture time this position stack Nodejs Nodejs Socket.io MongoDB CouchDB server architecture cloud docker click HERE position this position click this email search\n",
      "\n",
      "Answer: andriod, Predict: Frontend\n",
      "ios android time class get ios android client this time position this time android ios location HERE ios android ios android javascript swift this this design install client mobile Medium size mobile build design client ios android architecture mobile position ios android swift c objective-c Java Nodejs Express user range date line android mobile mysql php design design performance security design design build ios android ios android search swift c objective-c Nodejs Express debugging testing ios android ios android Play React api mobile mobile com com\n",
      "\n",
      "Answer: Security, Predict: Frontend\n",
      "position security location security methods controls security security response cloud security cloud security real-time build architecture response security security security cloud cloud security automation security build key cloud cloud cloud security cloud security automation design field field security security testing encryption cloud tcp ip networking stack tcp Java Python Perl ruby automation shell scripting UNIX linux system protocols UNIX linux windows security security security security security email com\n",
      "\n",
      "Answer: Security, Predict: Frontend\n",
      "service client security security security design security security response security design security security service design security architecture security security security order configuration integration matrix security response security events security security response security security key design security security model security logic security build configuration documentation response configuration date security security design build design service position security security Windows Server UNIX linux windows mysql oracle security security configuration build documentation security security security deployment UNIX linux security security security HP ssl service deployment testing memory this position email com position background\n",
      "\n",
      "Answer: Security, Predict: Frontend\n",
      "routing configuration configuration routing load scripting\n",
      "\n",
      "Answer: andriod, Predict: Frontend\n",
      "android android android com find android android location ios ios swift objective-c android android sdk UIKit this ios ios objective-c design ios web swift automation swift objective-c frameworks design position design class cloud web service tdd field ios object design caching persistence time git xcode com\n",
      "\n",
      "Answer: andriod, Predict: Frontend\n",
      "branch client android location key ios tdd integration object iteration design security design system performance system process object design automation android android android memory file tdd testing controls protocols performance optimization design automation Play performance this join com jersey website com\n",
      "\n",
      "Answer: andriod, Predict: Frontend\n",
      "android location android android build mobile android cross-platform android android android retrofit firebase realm design mvvm push dynamic join package performance this stack client design build field mobile design mobile scripting objective-c swift Java rest web version git mercurial ios objective-c UIKit android Java database design nosql sql database views triggers security oauth encryption performance ios web time integration command line orientation\n",
      "\n"
     ]
    }
   ],
   "source": [
    "def get_name(string):\n",
    "    return string.split(\".\")[0]\n",
    "    \n",
    "for i, val in enumerate(_y):\n",
    "    if val == test_y[i]: continue\n",
    "\n",
    "    print(\"Answer: {}, Predict: {}\\n{}\".format(get_name(labels[test_y[i]]), get_name(labels[val]), test_X[i][\"src\"]))"
   ]
  },
  {
   "cell_type": "code",
   "execution_count": null,
   "metadata": {
    "collapsed": true
   },
   "outputs": [],
   "source": []
  }
 ],
 "metadata": {
  "kernelspec": {
   "display_name": "Python 3",
   "language": "python",
   "name": "python3"
  },
  "language_info": {
   "codemirror_mode": {
    "name": "ipython",
    "version": 3
   },
   "file_extension": ".py",
   "mimetype": "text/x-python",
   "name": "python",
   "nbconvert_exporter": "python",
   "pygments_lexer": "ipython3",
   "version": "3.6.3"
  }
 },
 "nbformat": 4,
 "nbformat_minor": 2
}
