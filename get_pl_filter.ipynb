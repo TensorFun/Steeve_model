{
 "cells": [
  {
   "cell_type": "code",
   "execution_count": 59,
   "metadata": {
    "collapsed": false
   },
   "outputs": [],
   "source": [
    "from collections import defaultdict\n",
    "from bs4 import BeautifulSoup\n",
    "import requests\n",
    "import json\n",
    "\n",
    "res = requests.get('https://www.wappalyzer.com/datasets').content\n",
    "html = BeautifulSoup(res, 'lxml')"
   ]
  },
  {
   "cell_type": "code",
   "execution_count": 60,
   "metadata": {
    "collapsed": false
   },
   "outputs": [],
   "source": [
    "pl_filter = defaultdict(lambda: [])\n",
    "categories = html.find_all(\"div\", {\"class\": \"category\"})\n",
    "for category in categories:\n",
    "    labels = category.find_all(\"label\")\n",
    "    for label in labels:\n",
    "        if label.has_attr(\"data-slug\"):\n",
    "            pl_filter[category[\"data-slug\"]].append(label.text.strip())\n",
    "\n",
    "with open('pl_filter.json', 'w', encoding='utf8') as fs:\n",
    "    fs.write(json.dumps(pl_filter))"
   ]
  },
  {
   "cell_type": "code",
   "execution_count": null,
   "metadata": {
    "collapsed": true
   },
   "outputs": [],
   "source": []
  }
 ],
 "metadata": {
  "kernelspec": {
   "display_name": "Python 3",
   "language": "python",
   "name": "python3"
  },
  "language_info": {
   "codemirror_mode": {
    "name": "ipython",
    "version": 3
   },
   "file_extension": ".py",
   "mimetype": "text/x-python",
   "name": "python",
   "nbconvert_exporter": "python",
   "pygments_lexer": "ipython3",
   "version": "3.6.0"
  }
 },
 "nbformat": 4,
 "nbformat_minor": 2
}
