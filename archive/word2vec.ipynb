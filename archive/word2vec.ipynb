{
 "cells": [
  {
   "cell_type": "code",
   "execution_count": 8,
   "metadata": {},
   "outputs": [
    {
     "name": "stdout",
     "output_type": "stream",
     "text": [
      "Backend.all.json  Front-End-Developer.nofilter.NY.json\r\n"
     ]
    }
   ],
   "source": [
    "ls /home/fun/Atos/Steeve_data/raw_data_post"
   ]
  },
  {
   "cell_type": "code",
   "execution_count": 2,
   "metadata": {
    "collapsed": true
   },
   "outputs": [],
   "source": [
    "import json\n",
    "# /opt/fastText"
   ]
  },
  {
   "cell_type": "code",
   "execution_count": 9,
   "metadata": {},
   "outputs": [],
   "source": [
    "files = [\"Backend.all.json\", \"Front-End-Developer.nofilter.NY.json\"]\n",
    "\n",
    "ws = open('./../description.txt', 'w', encoding='utf8')\n",
    "\n",
    "for file in files:\n",
    "    fs = open('/home/fun/Atos/Steeve_data/raw_data_post/'+file, 'r', encoding='utf8')\n",
    "    content = json.loads(fs.read())\n",
    "    for field in content:\n",
    "        for post in content[field]:\n",
    "            ws.write(post[\"jobDescription\"])\n",
    "    fs.close()\n",
    "ws.close()"
   ]
  },
  {
   "cell_type": "code",
   "execution_count": 22,
   "metadata": {},
   "outputs": [],
   "source": [
    "import numpy as np\n",
    "\n",
    "vec = {}\n",
    "fs = open('../model.vec', 'r', encoding='utf8')\n",
    "for line in fs.readlines():\n",
    "    line = line.strip()\n",
    "    each = line.split(' ')\n",
    "    vec[each[0]] = np.array(each[1:]).astype(np.float32)\n",
    "#     vec[each[0]] = [float(e) for e in each[1:]]\n",
    "fs.close()"
   ]
  },
  {
   "cell_type": "code",
   "execution_count": 24,
   "metadata": {},
   "outputs": [
    {
     "name": "stdout",
     "output_type": "stream",
     "text": [
      "2.54367\n",
      "4.27155\n"
     ]
    }
   ],
   "source": [
    "\n",
    "print(np.linalg.norm(vec['html'] - vec['web']))\n",
    "print(np.linalg.norm(vec['html'] - vec['position']))\n"
   ]
  },
  {
   "cell_type": "code",
   "execution_count": null,
   "metadata": {
    "collapsed": true
   },
   "outputs": [],
   "source": []
  }
 ],
 "metadata": {
  "kernelspec": {
   "display_name": "Python 3",
   "language": "python",
   "name": "python3"
  },
  "language_info": {
   "codemirror_mode": {
    "name": "ipython",
    "version": 3
   },
   "file_extension": ".py",
   "mimetype": "text/x-python",
   "name": "python",
   "nbconvert_exporter": "python",
   "pygments_lexer": "ipython3",
   "version": "3.6.3"
  }
 },
 "nbformat": 4,
 "nbformat_minor": 2
}
