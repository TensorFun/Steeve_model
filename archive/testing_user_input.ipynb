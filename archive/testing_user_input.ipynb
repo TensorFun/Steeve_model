{
 "cells": [
  {
   "cell_type": "code",
   "execution_count": 5,
   "metadata": {},
   "outputs": [],
   "source": [
    "import regex as re\n",
    "import spacy\n",
    "import json\n",
    "from collections import Counter\n",
    "\n",
    "from rake import Rake\n",
    "from pl_module import get_pl_keywords\n",
    "from nltk.corpus import stopwords\n",
    "\n",
    "\n",
    "nlp = spacy.load('en')"
   ]
  },
  {
   "cell_type": "code",
   "execution_count": 6,
   "metadata": {
    "collapsed": true
   },
   "outputs": [],
   "source": [
    "def getN_Crunk(doc):\n",
    "    \n",
    "    candidates = []\n",
    "    doc = nlp(doc)\n",
    "    chunk = list(doc.noun_chunks)\n",
    "    chunk = map(str,chunk)\n",
    "    \n",
    "    for token in chunk:\n",
    "        candidates.append(token.lower())\n",
    "        \n",
    "    return candidates\n",
    "\n",
    "\n",
    "def getoffStopWord(n_chunks):\n",
    "    \n",
    "    for n, n_str in enumerate(n_chunks):\n",
    "\n",
    "        n_s = n_str.split(\" \")\n",
    "        for word in n_s:\n",
    "            if word in stopwords.words('english'):\n",
    "                n_s.remove(word)\n",
    "\n",
    "        n_chunks[n] = \" \".join(n_s)\n",
    "    \n",
    "    return n_chunks\n",
    "    \n",
    "def getCleanWord(n_chunks):\n",
    "#     exclude = \"(\\w+)( \\-|\\- | \\- )(\\w+)\"\n",
    "    exclude=\"[\\w ]|[ \\w][\\w\\-\\w]\"\n",
    "#     exclude = \"[(\\w+)-(\\w+)]\"\n",
    "    \n",
    "    for n, n_str in enumerate(n_chunks):\n",
    "        n_str = n_str.replace(\"\\n\", \" \")\n",
    "        matches = re.findall(exclude,n_str)\n",
    "        cl_words = \"\".join(matches)\n",
    "        n_chunks[n] = cl_words\n",
    "                \n",
    "    return n_chunks\n",
    "\n",
    "def get_NC(n_chunks):\n",
    "    \n",
    "    n_chunks = getCleanWord(n_chunks)\n",
    "    n_chunks = getoffStopWord(n_chunks)\n",
    "    \n",
    "    return n_chunks"
   ]
  },
  {
   "cell_type": "code",
   "execution_count": 7,
   "metadata": {
    "collapsed": true
   },
   "outputs": [],
   "source": [
    "with open('../user_model/cover_letter.txt','r') as text:\n",
    "    CoverLetter = text.read()\n",
    "\n",
    "pl_cnt = json.load(open('../Steeve_data/PL_value/Total_Comparison_Fields.txt','r') )\n",
    "        "
   ]
  },
  {
   "cell_type": "code",
   "execution_count": 8,
   "metadata": {},
   "outputs": [],
   "source": [
    "\n",
    "CL_NC = getN_Crunk(CoverLetter)\n",
    "    \n",
    "NC_testing = get_NC(CL_NC)\n",
    "PL_testing = get_pl_keywords(CoverLetter)\n",
    "pl_fe = pl_cnt['Front End Developer'][0]['PL_value']\n",
    "pl_be = pl_cnt['Backend'][0][\"PL_value\"]"
   ]
  },
  {
   "cell_type": "code",
   "execution_count": 9,
   "metadata": {},
   "outputs": [
    {
     "name": "stdout",
     "output_type": "stream",
     "text": [
      "['internet', '', 'early age', '', 'internet', '', 'people', '', 'internet', 'powerful tool', 'problem', 'internet', '', '', 'design', 'functionality', 'websites', '', '', '', '', 'web design', '', 'first computer', 'hours', 'css html coding', '', 'lot', 'time', 'computers', 'majority', 'work', 'btec national diploma', 'art', 'design', 'adobe creative suite', '', 'passion', 'design', 'computing', 'good combination', 'course', 'person', '', 'quick learner', '', 'problem', '', '', 'key part', 'programming languages', 'websites', '', 'graphics', 'btec course', 'design briefs', 'digital print media', '', 'projects', '', 'specifications', 'group', 'big part', 'college courses', 'presentations', 'class', 'fieldwork', 'experiments', '', 'characteristics', '', 'course', '', 'skills', 'web development industry', 'spare time', '', 'music', 'art', 'socialising', '', 'internet', 'interests', '', 'internet', 'hobbies', 'another reason', '', 'web developer', '', 'own website', '', 'portfolio', 'place', 'html', 'css', 'php', '', 'university', 'web development', 'part', 'web design company', 'graduation', 'year', 'beginning', 'university course', '', 'web frameworks', 'programming languages', 'ruby', 'rails', 'perl', 'php', '', 'web applications', 'designing graphics', 'manchester based internet company']\n"
     ]
    }
   ],
   "source": [
    "print(NC_testing)"
   ]
  },
  {
   "cell_type": "code",
   "execution_count": 10,
   "metadata": {},
   "outputs": [
    {
     "name": "stdout",
     "output_type": "stream",
     "text": [
      "['find', 'design', 'web', 'design', 'css', 'html', 'time', 'design', 'adobe', 'design', 'this', 'key', 'graphics', 'design', 'class', 'excel', 'this', 'web', 'time', 'web', 'website', 'html', 'css', 'PHP', 'web', 'web', 'design', 'Now', 'web', 'frameworks', 'Ruby on Rails', 'Perl', 'PHP', 'web', 'graphics']\n",
      "find\n",
      "design\n",
      "web\n",
      "css\n",
      "html\n",
      "time\n",
      "adobe\n",
      "this\n",
      "key\n",
      "graphics\n",
      "class\n",
      "excel\n",
      "website\n",
      "PHP\n",
      "Now\n",
      "frameworks\n",
      "Ruby on Rails\n",
      "Perl\n"
     ]
    }
   ],
   "source": [
    "print(PL_testing)\n",
    "\n",
    "pl_counter = Counter(PL_testing)\n",
    "for i in (pl_counter):\n",
    "    print(i)\n"
   ]
  },
  {
   "cell_type": "code",
   "execution_count": 11,
   "metadata": {},
   "outputs": [
    {
     "name": "stdout",
     "output_type": "stream",
     "text": [
      "0.49869451697127937 find\n",
      "0.5013054830287206 find\n",
      "0.5264452644526445 design\n",
      "0.4735547355473555 design\n",
      "0.6130880579010857 web\n",
      "0.38691194209891433 web\n",
      "0.6433621366849961 css\n",
      "0.3566378633150039 css\n",
      "0.6337914308811641 html\n",
      "0.36620856911883587 html\n",
      "0.4831612034126628 time\n",
      "0.5168387965873372 time\n",
      "0.4715909090909091 adobe\n",
      "0.5284090909090909 adobe\n",
      "0.5241216570529628 this\n",
      "0.47587834294703724 this\n",
      "0.4005524861878453 key\n",
      "0.5994475138121547 key\n",
      "0.4025974025974026 graphics\n",
      "0.5974025974025974 graphics\n",
      "0.5283018867924528 class\n",
      "0.4716981132075472 class\n",
      "0.27440633245382584 excel\n",
      "0.7255936675461742 excel\n",
      "0.5438144329896907 website\n",
      "0.45618556701030927 website\n",
      "0.6666666666666666 php\n",
      "0.3333333333333333 php\n",
      "0.46226415094339623 now\n",
      "0.5377358490566038 now\n",
      "0.6227830832196453 frameworks\n",
      "0.3772169167803547 frameworks\n",
      "0.7333333333333333 ruby on rails\n",
      "0.26666666666666666 ruby on rails\n",
      "0.38095238095238093 perl\n",
      "0.6190476190476191 perl\n",
      "be 9.409927332584342 fe 8.590072667415654\n"
     ]
    }
   ],
   "source": [
    "# backend\n",
    "score_be = 0\n",
    "score_fe = 0\n",
    "for i in pl_counter:\n",
    "    i = i.lower()\n",
    "    if i in pl_be:\n",
    "        print(pl_be.get(i),i)\n",
    "        score_be += pl_be.get(i)\n",
    "    if i in pl_fe:\n",
    "        print(pl_fe.get(i),i)\n",
    "        score_fe += pl_fe.get(i)\n",
    "    \n",
    "\n",
    "print(\"be\",score_be,\"fe\",score_fe)"
   ]
  },
  {
   "cell_type": "code",
   "execution_count": null,
   "metadata": {
    "collapsed": true
   },
   "outputs": [],
   "source": []
  }
 ],
 "metadata": {
  "kernelspec": {
   "display_name": "Python 3",
   "language": "python",
   "name": "python3"
  },
  "language_info": {
   "codemirror_mode": {
    "name": "ipython",
    "version": 3
   },
   "file_extension": ".py",
   "mimetype": "text/x-python",
   "name": "python",
   "nbconvert_exporter": "python",
   "pygments_lexer": "ipython3",
   "version": "3.6.2"
  }
 },
 "nbformat": 4,
 "nbformat_minor": 2
}
