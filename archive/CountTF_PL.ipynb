{
 "cells": [
  {
   "cell_type": "markdown",
   "metadata": {},
   "source": [
    "# Count PL value in each field and total"
   ]
  },
  {
   "cell_type": "code",
   "execution_count": 1,
   "metadata": {
    "collapsed": true
   },
   "outputs": [],
   "source": [
    "import json\n",
    "from collections import Counter\n",
    "import os\n",
    "\n",
    "PATH = \"../Steeve_data/no_filter_Dice/can/\"\n",
    "fields_posts_PL =[] # PL of each post in every fileds\n",
    "total_PL = []\n"
   ]
  },
  {
   "cell_type": "code",
   "execution_count": 2,
   "metadata": {
    "collapsed": true
   },
   "outputs": [],
   "source": [
    "def Data_loading(PATH):\n",
    "    \n",
    "    # load json files and get title name of each json file\n",
    "    file_data=[]\n",
    "    feild_names=[]\n",
    "    key = []\n",
    "    for path, dirs, files in os.walk(PATH):\n",
    "        for i,file in enumerate(files):\n",
    "            file_data.append( json.load(open(PATH+file)))\n",
    "            for k in file_data[i].keys():\n",
    "                print(key)\n",
    "                key.append(k)\n",
    "            \n",
    "    return file_data,key\n",
    "\n",
    "def Count_TF(field,field_name):\n",
    "    \n",
    "    # input js file, counting [\"PL\"] for each post in js file\n",
    "    total_cnt = Counter()\n",
    "    posts_PL = {}  \n",
    "    posts_PL[field_name] = []\n",
    "    \n",
    "    field_post = field[field_name]\n",
    "    \n",
    "    # for post_id in field_post[:300]:\n",
    "    for post_id in field_post:\n",
    "        pl = map(lambda el: el.lower(), post_id[\"PL\"])\n",
    "        post_cnt = Counter(pl)\n",
    "        \n",
    "        ################  TESTING -- regards repeat pl as 1 time ###################\n",
    "        for i in post_cnt:\n",
    "            post_cnt[i] = 1\n",
    "        ################  TESTING -- regards repeat pl as 1 time ###################\n",
    "        \n",
    "        # post_id use jobTitle as ID temporarily\n",
    "        posts_PL[field_name]=write_to_js(posts_PL,field_name,post_id[\"jobTitle\"],post_cnt,post_id[\"url\"])\n",
    "\n",
    "    \n",
    "    return posts_PL\n",
    "\n",
    "def write_to_js(posts_PL,field_name,post_id,cnt,url):\n",
    "\n",
    "\n",
    "    posts_PL[field_name].append({  \n",
    "    \"jobTitle\":post_id,\n",
    "    \"PL_value\":cnt,\n",
    "    \"url\":url})\n",
    "    \n",
    "    return posts_PL[field_name]\n",
    "\n",
    "def Count_Total_TF(fields_posts_PL):\n",
    "    \n",
    "    Total_PL =Counter()\n",
    "    Total_PL_VALUE =[]\n",
    "    Total_Comparison = {}  \n",
    "    ##########   TESTING -- get certain pl  \n",
    "    # jobN = []\n",
    "        \n",
    "    for i,f in enumerate(fields_posts_PL): # each feild\n",
    " \n",
    "        field_name = field_names[i]\n",
    "        fpost = Counter()\n",
    "        Total_Comparison[field_name] = []\n",
    "        \n",
    "        print(field_name)\n",
    "        \n",
    "        ##########   TESTING -- get certain pl  \n",
    "        # jobN.append(field_name)\n",
    "        ##########\n",
    "        \n",
    "        for f_post in f[field_name]:\n",
    "            fpost += f_post[\"PL_value\"]\n",
    "            \n",
    "        ##########   TESTING -- get certain pl   ##########\n",
    "        #    if (f_post[\"PL_value\"].get(\"css\")):\n",
    "        #        jobN.append((f_post[\"url\"]))\n",
    "        ###########   TESTING -- get certain pl  ##########\n",
    "\n",
    "        Total_PL_VALUE.append(fpost)\n",
    "        Total_PL += fpost\n",
    "\n",
    "    for i, f in enumerate(Total_PL_VALUE):\n",
    "        field_name = field_names[i]\n",
    "        for word in f:\n",
    "            f[word] = f.get(word)/ Total_PL.get(word)\n",
    "#             print(f)\n",
    "#         Total_Comparison.append(f)\n",
    "            \n",
    "        Total_Comparison[field_name]=write_to_js(Total_Comparison,field_name,Total_PL_VALUE,f,Total_PL_VALUE)\n",
    "        \n",
    "    return Total_Comparison\n",
    "\n",
    "    ##########   TESTING -- get certain pl   ##########\n",
    "    # return Total_Comparison,jobN"
   ]
  },
  {
   "cell_type": "markdown",
   "metadata": {},
   "source": [
    "## Count PL value\n",
    "##### Total_Comparison_Fields.txt for total comparison\n",
    "##### PL_posts_in_+field_name+.txt for each fields "
   ]
  },
  {
   "cell_type": "code",
   "execution_count": 3,
   "metadata": {},
   "outputs": [
    {
     "name": "stdout",
     "output_type": "stream",
     "text": [
      "[]\n",
      "['android']\n",
      "['android', 'backend']\n",
      "['android', 'backend', 'frontend']\n",
      "['android', 'backend', 'frontend', 'pm']\n",
      "['android', 'backend', 'frontend', 'pm', 'sa']\n",
      "0\n",
      "1\n",
      "2\n",
      "3\n",
      "4\n",
      "5\n",
      "android\n",
      "backend\n",
      "frontend\n",
      "pm\n",
      "sa\n",
      "security\n"
     ]
    }
   ],
   "source": [
    "if __name__ == \"__main__\":\n",
    "    \n",
    "    files_keyword, field_names = Data_loading(PATH)\n",
    "    for i,field in enumerate(files_keyword):\n",
    "        print(i)\n",
    "        field_name = field_names[i]\n",
    "        posts_PL = Count_TF(field,field_name)\n",
    "        fields_posts_PL.append(posts_PL) \n",
    "\n",
    "        with open('../Steeve_data/no_filter_Dice/pl_count_1/PL_posts_in_'+field_name+'.txt', 'w') as f:\n",
    "            json.dump(posts_PL, f)\n",
    "            \n",
    "    Total_Fields_PL_V= Count_Total_TF(fields_posts_PL)\n",
    "\n",
    "########### TESTING -- get certain pl ########### \n",
    "#    Total_Fields_PL_V, b = Count_Total_TF(fields_posts_PL)\n",
    "#    with open('../Steeve_data/PL_value/css.txt', 'w') as f:\n",
    "#        json.dump(b, f)\n",
    "########### TESTING -- get certain pl ###########\n",
    "    with open('../Steeve_data/no_filter_Dice/pl_count_1/Total_Comparison_Fields.txt', 'w') as f:\n",
    "            json.dump(Total_Fields_PL_V, f)"
   ]
  },
  {
   "cell_type": "markdown",
   "metadata": {},
   "source": [
    "## TESTING"
   ]
  },
  {
   "cell_type": "code",
   "execution_count": 4,
   "metadata": {},
   "outputs": [
    {
     "ename": "FileNotFoundError",
     "evalue": "[Errno 2] No such file or directory: '../Steeve_data/PL_value/total_testing.txt'",
     "output_type": "error",
     "traceback": [
      "\u001b[0;31m---------------------------------------------------------------------------\u001b[0m",
      "\u001b[0;31mFileNotFoundError\u001b[0m                         Traceback (most recent call last)",
      "\u001b[0;32m<ipython-input-4-20ccb8bb90ab>\u001b[0m in \u001b[0;36m<module>\u001b[0;34m()\u001b[0m\n\u001b[0;32m----> 1\u001b[0;31m \u001b[0masd\u001b[0m \u001b[0;34m=\u001b[0m \u001b[0mjson\u001b[0m\u001b[0;34m.\u001b[0m\u001b[0mload\u001b[0m\u001b[0;34m(\u001b[0m\u001b[0mopen\u001b[0m\u001b[0;34m(\u001b[0m\u001b[0;34m'../Steeve_data/PL_value/total_testing.txt'\u001b[0m\u001b[0;34m)\u001b[0m\u001b[0;34m)\u001b[0m\u001b[0;34m\u001b[0m\u001b[0m\n\u001b[0m\u001b[1;32m      2\u001b[0m \u001b[0ma\u001b[0m \u001b[0;34m=\u001b[0m \u001b[0msorted\u001b[0m\u001b[0;34m(\u001b[0m\u001b[0masd\u001b[0m\u001b[0;34m[\u001b[0m\u001b[0;34m'Front End Developer'\u001b[0m\u001b[0;34m]\u001b[0m\u001b[0;34m[\u001b[0m\u001b[0;36m0\u001b[0m\u001b[0;34m]\u001b[0m\u001b[0;34m[\u001b[0m\u001b[0;34m\"PL_value\"\u001b[0m\u001b[0;34m]\u001b[0m\u001b[0;34m.\u001b[0m\u001b[0mitems\u001b[0m\u001b[0;34m(\u001b[0m\u001b[0;34m)\u001b[0m\u001b[0;34m,\u001b[0m \u001b[0mkey\u001b[0m\u001b[0;34m=\u001b[0m\u001b[0;32mlambda\u001b[0m \u001b[0mk_v\u001b[0m\u001b[0;34m:\u001b[0m \u001b[0mk_v\u001b[0m\u001b[0;34m[\u001b[0m\u001b[0;36m1\u001b[0m\u001b[0;34m]\u001b[0m\u001b[0;34m,\u001b[0m \u001b[0mreverse\u001b[0m\u001b[0;34m=\u001b[0m\u001b[0;32mTrue\u001b[0m\u001b[0;34m)\u001b[0m\u001b[0;34m[\u001b[0m\u001b[0;34m:\u001b[0m\u001b[0;36m90\u001b[0m\u001b[0;34m]\u001b[0m\u001b[0;34m\u001b[0m\u001b[0m\n\u001b[1;32m      3\u001b[0m \u001b[0;31m#     print(asd['Backend-NY'][0][\"PL_value\"])\u001b[0m\u001b[0;34m\u001b[0m\u001b[0;34m\u001b[0m\u001b[0m\n\u001b[1;32m      4\u001b[0m \u001b[0mprint\u001b[0m\u001b[0;34m(\u001b[0m\u001b[0ma\u001b[0m\u001b[0;34m)\u001b[0m\u001b[0;34m\u001b[0m\u001b[0m\n",
      "\u001b[0;31mFileNotFoundError\u001b[0m: [Errno 2] No such file or directory: '../Steeve_data/PL_value/total_testing.txt'"
     ]
    }
   ],
   "source": [
    "    asd = json.load(open('../Steeve_data/PL_value/total_testing.txt'))\n",
    "    a = sorted(asd['Front End Developer'][0][\"PL_value\"].items(), key=lambda k_v: k_v[1], reverse=True)[:90]\n",
    "#     print(asd['Backend-NY'][0][\"PL_value\"])\n",
    "    print(a)\n"
   ]
  },
  {
   "cell_type": "code",
   "execution_count": null,
   "metadata": {
    "collapsed": true
   },
   "outputs": [],
   "source": [
    "    b = sorted(asd[field_names[0]][0][\"PL_value\"].items(), key=lambda k_v: k_v[1], reverse=True)[:90]\n",
    "    print(b)"
   ]
  },
  {
   "cell_type": "code",
   "execution_count": null,
   "metadata": {
    "collapsed": true
   },
   "outputs": [],
   "source": [
    "    print(asd['Backend'][0][\"PL_value\"].get(\"web\"))\n",
    "    print(asd['Front End Developer'][0][\"PL_value\"].get(\"web\"))"
   ]
  },
  {
   "cell_type": "code",
   "execution_count": null,
   "metadata": {
    "collapsed": true
   },
   "outputs": [],
   "source": []
  }
 ],
 "metadata": {
  "kernelspec": {
   "display_name": "Python 3",
   "language": "python",
   "name": "python3"
  },
  "language_info": {
   "codemirror_mode": {
    "name": "ipython",
    "version": 3
   },
   "file_extension": ".py",
   "mimetype": "text/x-python",
   "name": "python",
   "nbconvert_exporter": "python",
   "pygments_lexer": "ipython3",
   "version": "3.6.2"
  }
 },
 "nbformat": 4,
 "nbformat_minor": 2
}
