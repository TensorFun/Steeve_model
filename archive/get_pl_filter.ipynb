{
 "cells": [
  {
   "cell_type": "code",
   "execution_count": 5,
   "metadata": {
    "collapsed": false
   },
   "outputs": [],
   "source": [
    "import json, os\n",
    "\n",
    "def request_web():\n",
    "    from collections import defaultdict\n",
    "    from bs4 import BeautifulSoup\n",
    "    import requests\n",
    "    \n",
    "    res = requests.get('https://www.wappalyzer.com/datasets').content\n",
    "    html = BeautifulSoup(res, 'lxml')\n",
    "    \n",
    "    pl_filter = defaultdict(lambda: [])\n",
    "    categories = html.find_all(\"div\", {\"class\": \"category\"})\n",
    "    for category in categories:\n",
    "        labels = category.find_all(\"label\")\n",
    "        for label in labels:\n",
    "            if label.has_attr(\"data-slug\"):\n",
    "                pl_filter[category[\"data-slug\"]].append(label.text.strip())\n",
    "                \n",
    "    with open('pl_filter.json', 'w', encoding='utf8') as fs:\n",
    "        fs.write(json.dumps(pl_filter))\n",
    "        \n",
    "    return pl_filter\n",
    "\n",
    "def get_pl_filter():\n",
    "    if os.path.isfile('pl_filter.json'):\n",
    "        text = open('pl_filter.json', 'r', encoding='utf8').read()\n",
    "        return json.loads(text)\n",
    "    else:\n",
    "        return request_web()\n",
    "    \n",
    "if __name__ == '__main__':\n",
    "    pl_filter = request_web()"
   ]
  },
  {
   "cell_type": "code",
   "execution_count": null,
   "metadata": {
    "collapsed": true
   },
   "outputs": [],
   "source": []
  }
 ],
 "metadata": {
  "kernelspec": {
   "display_name": "Python 3",
   "language": "python",
   "name": "python3"
  },
  "language_info": {
   "codemirror_mode": {
    "name": "ipython",
    "version": 3
   },
   "file_extension": ".py",
   "mimetype": "text/x-python",
   "name": "python",
   "nbconvert_exporter": "python",
   "pygments_lexer": "ipython3",
   "version": "3.6.0"
  }
 },
 "nbformat": 4,
 "nbformat_minor": 2
}
