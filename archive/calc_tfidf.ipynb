{
 "cells": [
  {
   "cell_type": "code",
   "execution_count": null,
   "metadata": {
    "collapsed": false
   },
   "outputs": [],
   "source": [
    "from os import listdir\n",
    "from collections import Counter, defaultdict\n",
    "from functools import reduce\n",
    "import json\n",
    "import math"
   ]
  },
  {
   "cell_type": "code",
   "execution_count": null,
   "metadata": {
    "collapsed": false
   },
   "outputs": [],
   "source": []
  },
  {
   "cell_type": "code",
   "execution_count": null,
   "metadata": {
    "collapsed": true
   },
   "outputs": [],
   "source": [
    "def read_files(directory):\n",
    "    pass\n",
    "\n",
    "def get_field_counter(posts):\n",
    "    clean_NC = []\n",
    "    for post in posts[:300]:\n",
    "        clean_NC += list(map(lambda el: el.replace('\\n', '').replace('\\xa0', '').lower(), post['NC'])) # TODO: '\\n' deprecated yet? and refactor\n",
    "    return Counter(clean_NC)"
   ]
  },
  {
   "cell_type": "code",
   "execution_count": null,
   "metadata": {
    "collapsed": false
   },
   "outputs": [],
   "source": []
  },
  {
   "cell_type": "code",
   "execution_count": null,
   "metadata": {
    "collapsed": false,
    "scrolled": true
   },
   "outputs": [],
   "source": [
    "if __name__ == \"__main__\":\n",
    "    KEYWORD_PATH = '/home/fun/Atos/Steeve_data/candidates_keyword/'\n",
    "#     read_files(KEYWORD_PATH)\n",
    "    # print(open(KEYWORD_PATH + 'Keyword_Front_End.txt').read())\n",
    "    \n",
    "    ########### Get all fields counter and total counter\n",
    "    fields_counter = {} \n",
    "    files = listdir(KEYWORD_PATH)\n",
    "    for file in files:\n",
    "        doc = json.loads(open(KEYWORD_PATH + file, 'r', encoding='utf8').read())\n",
    "        for field in doc:\n",
    "            cnt = get_field_counter(doc[field])\n",
    "            \n",
    "            for k in list(cnt):\n",
    "                if cnt[k] < 25: # threshold\n",
    "                    del cnt[k]\n",
    "            \n",
    "            fields_counter[field] = cnt # get_field_counter(doc[field])\n",
    "\n",
    "    total_counter = reduce(lambda a, b: a + b, fields_counter.values())\n",
    "    ############\n",
    "    \n",
    "    \n",
    "    ############ Count tfidf\n",
    "    tfidf = defaultdict(lambda: defaultdict(lambda: 0))\n",
    "    word_num = len(total_counter.keys())\n",
    "    total_count = sum(total_counter.values())\n",
    "    for field in fields_counter:\n",
    "        field_count = sum(fields_counter[field].values())\n",
    "        other_count = total_count - field_count\n",
    "        \n",
    "        for key in fields_counter[field]:\n",
    "            # TODO: module: FORMULA\n",
    "            score = fields_counter[field][key] / total_counter[key]\n",
    "            \n",
    "#             p_w_f = math.log(fields_counter[field][key]+1 / field_count)\n",
    "#             p_w_o = math.log((total_counter[key] - fields_counter[field][key])+1 / other_count)\n",
    "#             score = p_w_f - p_w_o\n",
    "            \n",
    "            tfidf[field][key] = score\n",
    "#     print(tfidf)\n",
    "#     print(fields_counter)\n",
    "\n",
    "\n",
    "    "
   ]
  },
  {
   "cell_type": "code",
   "execution_count": null,
   "metadata": {
    "collapsed": true
   },
   "outputs": [],
   "source": []
  },
  {
   "cell_type": "code",
   "execution_count": null,
   "metadata": {
    "collapsed": false
   },
   "outputs": [],
   "source": [
    "for field in tfidf:\n",
    "    a = sorted(tfidf[field].items(), key=lambda k_v: k_v[1], reverse=True) #2010\n",
    "    print(a)"
   ]
  },
  {
   "cell_type": "code",
   "execution_count": null,
   "metadata": {
    "collapsed": false
   },
   "outputs": [],
   "source": [
    "print(tfidf[\"Front_End\"]['angularjs'])"
   ]
  },
  {
   "cell_type": "code",
   "execution_count": null,
   "metadata": {
    "collapsed": true
   },
   "outputs": [],
   "source": []
  }
 ],
 "metadata": {
  "kernelspec": {
   "display_name": "Python 3",
   "language": "python",
   "name": "python3"
  },
  "language_info": {
   "codemirror_mode": {
    "name": "ipython",
    "version": 3
   },
   "file_extension": ".py",
   "mimetype": "text/x-python",
   "name": "python",
   "nbconvert_exporter": "python",
   "pygments_lexer": "ipython3",
   "version": "3.6.3"
  }
 },
 "nbformat": 4,
 "nbformat_minor": 2
}
