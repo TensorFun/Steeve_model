{
 "cells": [
  {
   "cell_type": "code",
   "execution_count": null,
   "metadata": {
    "collapsed": true
   },
   "outputs": [],
   "source": [
    "import json, requests\n",
    "\n",
    "url = 'https://api.stackexchange.com/2.2/tags'\n",
    "params = dict(\n",
    "    page='1',\n",
    "    order='desc',\n",
    "    sort='popular',\n",
    "    site='stackoverflow'\n",
    ")\n",
    "\n",
    "extra_PL = []\n",
    "fs = open('stack_filter.txt', 'w', encoding='utf8')\n"
   ]
  },
  {
   "cell_type": "code",
   "execution_count": null,
   "metadata": {
    "collapsed": true
   },
   "outputs": [],
   "source": [
    "# total 200 * 30\n",
    "for i in range(1,201):\n",
    "    print(i)\n",
    "    params['page']=str(i)\n",
    "    \n",
    "    res = requests.get(url=url, params=params)\n",
    "    data = json.loads(res.text)\n",
    "    \n",
    "    print(data['quota_remaining'])\n",
    "    \n",
    "    for each in data['items']:\n",
    "        fs.write(each['name'] + ',')\n",
    "        extra_PL.append(each['name'])"
   ]
  },
  {
   "cell_type": "code",
   "execution_count": null,
   "metadata": {
    "collapsed": true
   },
   "outputs": [],
   "source": [
    "print(extra_PL[:100*30])\n"
   ]
  }
 ],
 "metadata": {
  "kernelspec": {
   "display_name": "Python 3",
   "language": "python",
   "name": "python3"
  },
  "language_info": {
   "codemirror_mode": {
    "name": "ipython",
    "version": 3
   },
   "file_extension": ".py",
   "mimetype": "text/x-python",
   "name": "python",
   "nbconvert_exporter": "python",
   "pygments_lexer": "ipython3",
   "version": "3.6.0"
  }
 },
 "nbformat": 4,
 "nbformat_minor": 2
}
