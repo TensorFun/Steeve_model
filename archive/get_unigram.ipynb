{
 "cells": [
  {
   "cell_type": "markdown",
   "metadata": {},
   "source": [
    "# Get unigram key candidates (PROPN, NOUN)"
   ]
  },
  {
   "cell_type": "markdown",
   "metadata": {},
   "source": [
    "## Load model"
   ]
  },
  {
   "cell_type": "code",
   "execution_count": 1,
   "metadata": {
    "collapsed": true
   },
   "outputs": [],
   "source": [
    "import spacy\n",
    "import json\n",
    "nlp = spacy.load('en')"
   ]
  },
  {
   "cell_type": "markdown",
   "metadata": {},
   "source": [
    "## testing"
   ]
  },
  {
   "cell_type": "code",
   "execution_count": 2,
   "metadata": {
    "collapsed": true
   },
   "outputs": [],
   "source": [
    "doc = nlp(u'Apple is looking at buying U.K. startup for $1 billion')\n",
    "# for token in doc:\n",
    "#     print(token.text, token.lemma_, token.pos_, token.dep_)\n",
    "    \n",
    "def getUni_can(doc):\n",
    "    candidates=[]\n",
    "    doc = nlp(doc)\n",
    "    for token in doc:\n",
    "        if token.pos_ == \"PROPN\" or token.pos_ == \"NOUN\":\n",
    "            candidates.append(str(token))\n",
    "#             print(token, token.pos_, token.dep_)\n",
    "\n",
    "    return candidates\n",
    "    "
   ]
  },
  {
   "cell_type": "markdown",
   "metadata": {},
   "source": [
    "## Processing"
   ]
  },
  {
   "cell_type": "code",
   "execution_count": 5,
   "metadata": {},
   "outputs": [],
   "source": [
    "json_strucure=[\"jobTitle\",\"jobEmployer\",\"jobLocation\",\"jobPostTime\",\"skills\",\\\n",
    "               \"employmentType\",\"baseSalary\",\"jobDescription\",\"url\"]\n",
    "    \n",
    "js_data = json.load(open('Backend-NY.json'))\n",
    "\n",
    "ori_data = js_data[\"Backend\"]\n",
    "\n",
    "data = {}  \n",
    "# for job_num in range(fff):\n",
    " \n",
    "data[\"Backend-NY\"] = []\n",
    "for job_num in range(len(ori_data)):   \n",
    "    can = []\n",
    "    can = getUni_can(ori_data[job_num][\"jobDescription\"])\n",
    "    can_skill = getUni_can(ori_data[job_num][\"skills\"])\n",
    "    \n",
    "    data[\"Backend-NY\"].append({  \n",
    "    \"jobTitle\": ori_data[job_num][\"jobTitle\"],\n",
    "    \"key_candidates\": can,\n",
    "    \"skills\": can_skill,\n",
    "    \"url\": ori_data[job_num][\"url\"]\n",
    "})\n",
    "\n",
    "    "
   ]
  },
  {
   "cell_type": "markdown",
   "metadata": {},
   "source": [
    "## Write to Json.file"
   ]
  },
  {
   "cell_type": "code",
   "execution_count": 6,
   "metadata": {
    "collapsed": true
   },
   "outputs": [],
   "source": [
    "with open('unigram_Backend-NY.txt', 'w') as f:\n",
    "    json.dump(data, f)\n",
    "\n",
    "with open('unigram_Backend-NY_with_skill.txt', 'w') as f:\n",
    "    json.dump(data, f)"
   ]
  },
  {
   "cell_type": "code",
   "execution_count": 9,
   "metadata": {},
   "outputs": [
    {
     "name": "stdout",
     "output_type": "stream",
     "text": [
      "['E', 'commerce', 'Demandware']\n",
      "E-commerce, Demandware\n"
     ]
    }
   ],
   "source": [
    "# # print(data[0])\n",
    "asd = json.load(open('unigram_Backend-NY.txt'))\n",
    "\n",
    "text = asd[\"Backend-NY\"]\n",
    "# for i in text:\n",
    "#     print(i[\"key_candidates\"])\n",
    "print(text[26][\"skills\"])\n",
    "print(ori_data[26][\"skills\"])\n",
    "# # print(ddd[\"jobTitle\"])"
   ]
  },
  {
   "cell_type": "code",
   "execution_count": null,
   "metadata": {
    "collapsed": true
   },
   "outputs": [],
   "source": []
  }
 ],
 "metadata": {
  "kernelspec": {
   "display_name": "Python 3",
   "language": "python",
   "name": "python3"
  },
  "language_info": {
   "codemirror_mode": {
    "name": "ipython",
    "version": 3
   },
   "file_extension": ".py",
   "mimetype": "text/x-python",
   "name": "python",
   "nbconvert_exporter": "python",
   "pygments_lexer": "ipython3",
   "version": "3.6.3"
  }
 },
 "nbformat": 4,
 "nbformat_minor": 2
}
