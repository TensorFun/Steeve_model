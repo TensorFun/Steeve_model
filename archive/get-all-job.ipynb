{
 "cells": [
  {
   "cell_type": "code",
   "execution_count": 1,
   "metadata": {},
   "outputs": [],
   "source": [
    "import requests"
   ]
  },
  {
   "cell_type": "code",
   "execution_count": 2,
   "metadata": {},
   "outputs": [],
   "source": [
    "r = requests.get('https://steevebot.ml/all')"
   ]
  },
  {
   "cell_type": "code",
   "execution_count": 3,
   "metadata": {},
   "outputs": [
    {
     "data": {
      "text/plain": [
       "<Response [200]>"
      ]
     },
     "execution_count": 3,
     "metadata": {},
     "output_type": "execute_result"
    }
   ],
   "source": [
    "r"
   ]
  },
  {
   "cell_type": "code",
   "execution_count": 4,
   "metadata": {},
   "outputs": [
    {
     "data": {
      "text/plain": [
       "200"
      ]
     },
     "execution_count": 4,
     "metadata": {},
     "output_type": "execute_result"
    }
   ],
   "source": [
    "r.status_code"
   ]
  },
  {
   "cell_type": "code",
   "execution_count": 18,
   "metadata": {},
   "outputs": [],
   "source": [
    "all_data = r.json()"
   ]
  },
  {
   "cell_type": "code",
   "execution_count": 19,
   "metadata": {},
   "outputs": [
    {
     "name": "stdout",
     "output_type": "stream",
     "text": [
      "employmentType\n",
      "JobID\n",
      "url\n",
      "skills\n",
      "Employer\n",
      "jobDescription\n",
      "Location\n",
      "Title\n",
      "baseSalary\n",
      "PostTime\n"
     ]
    }
   ],
   "source": [
    "for i in all_data[\"Backend\"][1]:\n",
    "    print(i)"
   ]
  },
  {
   "cell_type": "code",
   "execution_count": 7,
   "metadata": {},
   "outputs": [
    {
     "data": {
      "text/plain": [
       "dict"
      ]
     },
     "execution_count": 7,
     "metadata": {},
     "output_type": "execute_result"
    }
   ],
   "source": [
    "type(all)"
   ]
  },
  {
   "cell_type": "code",
   "execution_count": 20,
   "metadata": {},
   "outputs": [
    {
     "name": "stdout",
     "output_type": "stream",
     "text": [
      "{'employmentType': '-', 'JobID': '29292BR', 'url': 'https://www.dice.com/jobs/detail/Technology-Lead-%26%2345-US-Infosys-Saint-Louis-MO-63101/10204393/29292BR?icid=sr2524-85p&q=Frontend&l=', 'skills': 'Full Time', 'Employer': 'Infosys,', 'jobDescription': '\\nInfosys  \\nEnergy, Communication & Services \\n Technology Lead  US  \\nJ2EE\\n\\n\\nInfosys is a global leader in technology services and consulting. We enable clients in more than 50 countries to create and execute strategies for their digital transformation. From engineering to application development, knowledge management and business process management, we help our clients find the right problems to solve, and to solve these effectively. Our team of 190,000+ innovators, across the globe, is differentiated by the imagination, knowledge and experience, across industries and technologies, that we bring to every project we undertake\\n\\nWanted: Global Innovators to Help Us Build Tomorrows Enterprise\\n\\n\\n\\nIn the role of Technology Lead\\n, you will interface with key stakeholders and apply your technical proficiency across different stages of the Software Development Life Cycle including Requirements Elicitation, Application Architecture definition and Design. You will play an important role in creating the high level design artifacts. You will also deliver high quality code deliverables for a module, lead validation for all types of testing and support activities related to implementation, transition and warranty. You will be part of a learning culture, where teamwork and collaboration are encouraged, excellence is rewarded, and diversity is respected and valued.\\n\\n\\n\\nLocation for this position isSt. Louis, MO\\n. This position may require relocation and or travel.\\n\\nU.S. citizens and those authorized to work in the U.S. are encouraged to apply. We are unable to sponsor at this time.\\n\\n\\n\\n\\nQualifications\\n\\n\\n\\nBasic\\n\\n Bachelors degree or foreign equivalent required from an accredited institution. Will also consider three years of progressive experience in the specialty in lieu of every year of education.\\n  At least 4 years of experience with IT\\n\\nPreferred\\n\\n  At least 5 years of experience in Angular JS, Java/J2EE technologies (Core Java, JSP, EJB, Web Services, and Swing).\\n  At least 5 years of experience indeveloping J2EE based application using server technologies including spring, Soap/Rest Web Services.\\n  At least3 years of experience in front end technologies like AJAX, JS, HTML, HTML 5, CSS, Angular 1.5/2\\n  At least3 years of experience in development/build tools like Eclipse, RAD, Soap UI, XML Spy, GIT,Jasmine, Junit\\n  Experience in Oracle DB. Basic implementation knowledge in PL/SQL\\n At least 3years of experience in software development life cycle.\\n Technical Skills.\\n Ability to work in team environment and client interfacing skills.\\n Analytical skills\\n Experience and desire to work in a Global delivery environment\\n\\nThe job entails sitting as well as working at a computer for extended periods of time. Should be able to communicate by telephone, email or face to face. Travel may be required as per the job requirements.\\n\\n\\n\\nAbout Us\\n\\nInfosys is a global leader in technology services and consulting. We enable clients in more than 50 countries to create and execute strategies for their digital transformation. From engineering to application development, knowledge management and business process management, we help our clients find the right problems to solve, and to solve these effectively. Our team of 199,000+ innovators, across the globe, is differentiated by the imagination, knowledge and experience, across industries and technologies, that we bring to every project we undertake.\\n\\nEOE/Minority/Female/Veteran/Disabled/Sexual Orientation/Gender Identity/National Origin\\n\\n\\n', 'Location': 'Saint Louis, MO', 'Title': 'Technology Lead - US', 'baseSalary': 'Telecommuting not availableTravel not required', 'PostTime': 'Posted 4 hours ago'}\n"
     ]
    }
   ],
   "source": [
    "a = list(all.keys())[0]\n",
    "print(all_data[a][1])"
   ]
  },
  {
   "cell_type": "code",
   "execution_count": 9,
   "metadata": {},
   "outputs": [
    {
     "data": {
      "text/plain": [
       "3808"
      ]
     },
     "execution_count": 9,
     "metadata": {},
     "output_type": "execute_result"
    }
   ],
   "source": [
    "len(all[\"Frontend\"])"
   ]
  },
  {
   "cell_type": "code",
   "execution_count": 10,
   "metadata": {},
   "outputs": [
    {
     "data": {
      "text/plain": [
       "3540"
      ]
     },
     "execution_count": 10,
     "metadata": {},
     "output_type": "execute_result"
    }
   ],
   "source": [
    "len(all[\"Backend\"])"
   ]
  }
 ],
 "metadata": {
  "kernelspec": {
   "display_name": "Python 3",
   "language": "python",
   "name": "python3"
  },
  "language_info": {
   "codemirror_mode": {
    "name": "ipython",
    "version": 3
   },
   "file_extension": ".py",
   "mimetype": "text/x-python",
   "name": "python",
   "nbconvert_exporter": "python",
   "pygments_lexer": "ipython3",
   "version": "3.5.4"
  }
 },
 "nbformat": 4,
 "nbformat_minor": 2
}
