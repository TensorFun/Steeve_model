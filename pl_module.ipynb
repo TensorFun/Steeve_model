{
 "cells": [
  {
   "cell_type": "code",
   "execution_count": 120,
   "metadata": {},
   "outputs": [],
   "source": [
    "import json\n",
    "from get_pl_filter import get_pl_filter\n",
    "from flashtext import KeywordProcessor\n",
    "\n",
    "# from wappalyzer and augment list\n",
    "pl_filter = get_pl_filter()\n",
    "wap_pls = []\n",
    "for pl in [pl for cate in pl_filter for pl in pl_filter[cate]]: # flatten\n",
    "    if '.' in pl:\n",
    "        wap_pls += [pl, pl.replace('.', '')]\n",
    "    elif '_' in pl:\n",
    "        wap_pls += [pl, pl.replace('_', ' ')]\n",
    "    elif '-' in pl:\n",
    "        wap_pls += [pl, pl.replace('-', ' '), pl.replace('-', '')]\n",
    "    else:\n",
    "        wap_pls += [pl]\n",
    "\n",
    "# from stackoverflow, tags in order of popularity\n",
    "stack_tags = open('stack_filter.txt', 'r', encoding='utf8').read().split(',') # total 30*200\n",
    "stack_tags = stack_tags[:30*50]\n",
    "\n",
    "# combine together and remove duplicates\n",
    "all_pls = list(set(wap_pls + stack_tags))\n",
    "\n",
    "keyword_processor = KeywordProcessor()\n",
    "keyword_processor.add_keywords_from_list(all_pls)\n",
    "\n",
    "# print(all_pls)"
   ]
  },
  {
   "cell_type": "code",
   "execution_count": 121,
   "metadata": {
    "collapsed": true
   },
   "outputs": [],
   "source": [
    "def get_pl_keywords(content):\n",
    "    return keyword_processor.extract_keywords(content)"
   ]
  },
  {
   "cell_type": "code",
   "execution_count": 122,
   "metadata": {},
   "outputs": [
    {
     "name": "stdout",
     "output_type": "stream",
     "text": [
      "Front-End-Developer\n"
     ]
    }
   ],
   "source": [
    "if __name__ == \"__main__\":\n",
    "    # test\n",
    "    with open('../Data/Front-End-Developer-NY-3000.json') as fs:\n",
    "        for jobfield in json.loads(fs.read()):\n",
    "            print(jobfield)\n",
    "            for post in articles[jobfield]:\n",
    "                keywords = get_pl_keywords(post['skills'] + \" \" + post['jobDescription'])\n",
    "#                 print(keywords)"
   ]
  },
  {
   "cell_type": "code",
   "execution_count": null,
   "metadata": {},
   "outputs": [],
   "source": []
  },
  {
   "cell_type": "code",
   "execution_count": null,
   "metadata": {
    "collapsed": true
   },
   "outputs": [],
   "source": []
  }
 ],
 "metadata": {
  "kernelspec": {
   "display_name": "Python 3",
   "language": "python",
   "name": "python3"
  },
  "language_info": {
   "codemirror_mode": {
    "name": "ipython",
    "version": 3
   },
   "file_extension": ".py",
   "mimetype": "text/x-python",
   "name": "python",
   "nbconvert_exporter": "python",
   "pygments_lexer": "ipython3",
   "version": "3.6.2"
  }
 },
 "nbformat": 4,
 "nbformat_minor": 2
}
