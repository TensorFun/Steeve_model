{
 "cells": [
  {
   "cell_type": "code",
   "execution_count": 1,
   "metadata": {
    "collapsed": true
   },
   "outputs": [],
   "source": [
    "import json\n",
    "from collections import Counter\n",
    "import os\n",
    "\n",
    "PATH = \"../Steeve_data/candidates_keyword/\"\n",
    "fields_posts_PL =[] # PL of each post in every fileds\n",
    "total_PL = []\n"
   ]
  },
  {
   "cell_type": "code",
   "execution_count": 2,
   "metadata": {
    "collapsed": true
   },
   "outputs": [],
   "source": [
    "def Data_loading(PATH):\n",
    "    \n",
    "    # load json files and get title name of each json file\n",
    "    file_data=[]\n",
    "    feild_names=[]\n",
    "    key = []\n",
    "    for path, dirs, files in os.walk(PATH):\n",
    "        for i,file in enumerate(files):\n",
    "            file_data.append( json.load(open(PATH+file)))\n",
    "            for k in file_data[i].keys():\n",
    "                print(key)\n",
    "                key.append(k)\n",
    "            \n",
    "    return file_data,key\n",
    "\n",
    "def Count_TF(field,field_name):\n",
    "    \n",
    "    # input js file, counting [\"PL\"] for each post in js file\n",
    "    total_cnt = Counter()\n",
    "    posts_PL = {}  \n",
    "    posts_PL[field_name] = []\n",
    "    \n",
    "    field_post = field[field_name]\n",
    "    \n",
    "#     for post_id in field_post[:10]:\n",
    "    for post_id in field_post:\n",
    "        pl = map(lambda el: el.lower(), post_id[\"PL\"])\n",
    "        post_cnt = Counter(pl)\n",
    "\n",
    "        \n",
    "        # post_id use jobTitle as ID temporarily\n",
    "        posts_PL[field_name]=write_to_js(posts_PL,field_name,post_id[\"jobTitle\"],post_cnt)\n",
    "\n",
    "    \n",
    "    return posts_PL\n",
    "\n",
    "def write_to_js(posts_PL,field_name,post_id,cnt):\n",
    "\n",
    "\n",
    "    posts_PL[field_name].append({  \n",
    "    \"jobTitle\":post_id ,\n",
    "    \"PL_value\":cnt })\n",
    "    \n",
    "    return posts_PL[field_name]\n",
    "\n",
    "def Count_Total_TF(fields_posts_PL):\n",
    "    \n",
    "    Total_PL =Counter()\n",
    "    Total_PL_VALUE =[]\n",
    "    Total_Comparison = {}  \n",
    "        \n",
    "    for i,f in enumerate(fields_posts_PL): # each feild\n",
    " \n",
    "        field_name = field_names[i]\n",
    "        fpost = Counter()\n",
    "        Total_Comparison[field_name] = []\n",
    "        \n",
    "        for f_post in f[field_name]:\n",
    "            fpost += f_post[\"PL_value\"]\n",
    "\n",
    "        Total_PL_VALUE.append(fpost)\n",
    "        Total_PL += fpost\n",
    "\n",
    "    for i, f in enumerate(Total_PL_VALUE):\n",
    "        field_name = field_names[i]\n",
    "        for word in f:\n",
    "            f[word] = f.get(word)/ Total_PL.get(word)\n",
    "#             print(f)\n",
    "#         Total_Comparison.append(f)\n",
    "#         print(fpost)\n",
    "            \n",
    "        Total_Comparison[field_name]=write_to_js(Total_Comparison,field_name,field_name,f)\n",
    "#         S.append(field_Com_PL)\n",
    "        \n",
    "            \n",
    "    return Total_Comparison\n",
    "    \n",
    "# print(feild_value[0][\"Back_End\"][0][])"
   ]
  },
  {
   "cell_type": "code",
   "execution_count": null,
   "metadata": {
    "collapsed": true
   },
   "outputs": [],
   "source": []
  },
  {
   "cell_type": "code",
   "execution_count": 3,
   "metadata": {},
   "outputs": [
    {
     "name": "stdout",
     "output_type": "stream",
     "text": [
      "[]\n",
      "['Backend-NY']\n",
      "0\n",
      "1\n"
     ]
    }
   ],
   "source": [
    "if __name__ == \"__main__\":\n",
    "    \n",
    "    files_keyword, field_names = Data_loading(PATH)\n",
    "    for i,field in enumerate(files_keyword):\n",
    "        print(i)\n",
    "        field_name = field_names[i]\n",
    "        posts_PL = Count_TF(field,field_name)\n",
    "        fields_posts_PL.append(posts_PL) \n",
    "\n",
    "        with open('../Steeve_data/PL_value/PL_posts_in_'+field_name+'.txt', 'w') as f:\n",
    "            json.dump(posts_PL, f)\n",
    "            \n",
    "    Total_Fields_PL_V= Count_Total_TF(fields_posts_PL)\n",
    "    with open('../Steeve_data/PL_value/Total_Comparison_Fields.txt', 'w') as f:\n",
    "            json.dump(Total_Fields_PL_V, f)"
   ]
  },
  {
   "cell_type": "code",
   "execution_count": 4,
   "metadata": {},
   "outputs": [
    {
     "ename": "NameError",
     "evalue": "name 'file_data' is not defined",
     "output_type": "error",
     "traceback": [
      "\u001b[0;31m---------------------------------------------------------------------------\u001b[0m",
      "\u001b[0;31mNameError\u001b[0m                                 Traceback (most recent call last)",
      "\u001b[0;32m<ipython-input-4-d6aa39ab31f7>\u001b[0m in \u001b[0;36m<module>\u001b[0;34m()\u001b[0m\n\u001b[0;32m----> 1\u001b[0;31m \u001b[0mtext\u001b[0m \u001b[0;34m=\u001b[0m \u001b[0mfile_data\u001b[0m\u001b[0;34m[\u001b[0m\u001b[0;36m0\u001b[0m\u001b[0;34m]\u001b[0m\u001b[0;34m[\u001b[0m\u001b[0mfeild_names\u001b[0m\u001b[0;34m[\u001b[0m\u001b[0;36m0\u001b[0m\u001b[0;34m]\u001b[0m\u001b[0;34m]\u001b[0m\u001b[0;34m\u001b[0m\u001b[0m\n\u001b[0m\u001b[1;32m      2\u001b[0m \u001b[0;34m\u001b[0m\u001b[0m\n\u001b[1;32m      3\u001b[0m \u001b[0;31m# for i in text:\u001b[0m\u001b[0;34m\u001b[0m\u001b[0;34m\u001b[0m\u001b[0m\n\u001b[1;32m      4\u001b[0m \u001b[0;31m#     print(i[\"PL\"])\u001b[0m\u001b[0;34m\u001b[0m\u001b[0;34m\u001b[0m\u001b[0m\n\u001b[1;32m      5\u001b[0m \u001b[0;34m\u001b[0m\u001b[0m\n",
      "\u001b[0;31mNameError\u001b[0m: name 'file_data' is not defined"
     ]
    }
   ],
   "source": [
    "text = file_data[0][feild_names[0]]\n",
    "\n",
    "# for i in text:\n",
    "#     print(i[\"PL\"])\n",
    "\n",
    "\n",
    "# sss =  Count_TF(text)\n",
    "sss = Count_TF(text,feild_names[0])\n",
    "# print(sss[0])\n",
    "print(sss[1])\n",
    "Count_TF(field[feild_names[i]],feild_names[i][1])#TOATL\n",
    "\n",
    "Counter(words).most_common(10)"
   ]
  },
  {
   "cell_type": "code",
   "execution_count": null,
   "metadata": {
    "collapsed": true
   },
   "outputs": [],
   "source": []
  }
 ],
 "metadata": {
  "kernelspec": {
   "display_name": "Python 3",
   "language": "python",
   "name": "python3"
  },
  "language_info": {
   "codemirror_mode": {
    "name": "ipython",
    "version": 3
   },
   "file_extension": ".py",
   "mimetype": "text/x-python",
   "name": "python",
   "nbconvert_exporter": "python",
   "pygments_lexer": "ipython3",
   "version": "3.6.2"
  }
 },
 "nbformat": 4,
 "nbformat_minor": 2
}
