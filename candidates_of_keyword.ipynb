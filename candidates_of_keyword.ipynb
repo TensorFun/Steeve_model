{
 "cells": [
  {
   "cell_type": "markdown",
   "metadata": {},
   "source": [
    "# Candidates of keyword"
   ]
  },
  {
   "cell_type": "markdown",
   "metadata": {},
   "source": [
    "## Load model"
   ]
  },
  {
   "cell_type": "code",
   "execution_count": 1,
   "metadata": {
    "collapsed": true
   },
   "outputs": [],
   "source": [
    "import regex as re\n",
    "from spacy.tokenizer import Tokenizer\n",
    "import spacy\n",
    "import json\n",
    "# import flashtext\n",
    "from pl_module import get_pl_keywords\n",
    "from nltk.corpus import stopwords\n",
    "import os\n",
    "\n",
    "\n",
    "nlp = spacy.load('en')\n",
    "PATH = '../Steeve_data/raw_data_post/'"
   ]
  },
  {
   "cell_type": "code",
   "execution_count": 2,
   "metadata": {
    "collapsed": true
   },
   "outputs": [],
   "source": [
    "def Data_loading(PATH):\n",
    "    \n",
    "    # load json files and get title name of each json file\n",
    "    file_data=[]\n",
    "    feild_names=[]\n",
    "    key = []\n",
    "    for path, dirs, files in os.walk(PATH):\n",
    "        for i,file in enumerate(files):\n",
    "            file_data.append( json.load(open(PATH+file)))\n",
    "            for k in file_data[i].keys():\n",
    "                key.append(k)\n",
    "            \n",
    "    return file_data,key"
   ]
  },
  {
   "cell_type": "markdown",
   "metadata": {},
   "source": [
    "## Get NOUN TRUNK key candidates \n"
   ]
  },
  {
   "cell_type": "code",
   "execution_count": 3,
   "metadata": {
    "collapsed": true,
    "scrolled": true
   },
   "outputs": [],
   "source": [
    "def getN_Crunk(doc):\n",
    "    \n",
    "    candidates = []\n",
    "    doc = nlp(doc)\n",
    "    chunk = list(doc.noun_chunks)\n",
    "    chunk = map(str,chunk)\n",
    "    \n",
    "    for token in chunk:\n",
    "        candidates.append(token.lower())\n",
    "        \n",
    "    return candidates\n",
    "\n",
    "\n",
    "def getoffStopWord(n_chunks):\n",
    "    \n",
    "    for n, n_str in enumerate(n_chunks):\n",
    "\n",
    "        n_s = n_str.split(\" \")\n",
    "        for word in n_s:\n",
    "            if word in stopwords.words('english'):\n",
    "                n_s.remove(word)\n",
    "\n",
    "        n_chunks[n] = \" \".join(n_s)\n",
    "    \n",
    "    return n_chunks\n",
    "    \n",
    "def getCleanWord(n_chunks):\n",
    "#     exclude = \"(\\w+)( \\-|\\- | \\- )(\\w+)\"\n",
    "    exclude=\"[\\w ]|[ \\w][\\w\\-\\w]\"\n",
    "#     exclude = \"[(\\w+)-(\\w+)]\"\n",
    "    \n",
    "    for n, n_str in enumerate(n_chunks):\n",
    "        n_str = n_str.replace(\"\\n\", \" \")\n",
    "        matches = re.findall(exclude,n_str)\n",
    "        cl_words = \"\".join(matches)\n",
    "        n_chunks[n] = cl_words\n",
    "                \n",
    "    return n_chunks\n",
    "\n",
    "def get_NC(n_chunks):\n",
    "    \n",
    "    n_chunks = getCleanWord(n_chunks)\n",
    "    n_chunks = getoffStopWord(n_chunks)\n",
    "    \n",
    "    return n_chunks"
   ]
  },
  {
   "cell_type": "markdown",
   "metadata": {},
   "source": [
    "## Load data"
   ]
  },
  {
   "cell_type": "code",
   "execution_count": 4,
   "metadata": {},
   "outputs": [
    {
     "name": "stdout",
     "output_type": "stream",
     "text": [
      "load data\n"
     ]
    }
   ],
   "source": [
    "if __name__ == \"__main__\":\n",
    "    \n",
    "    ori_data, field_names = Data_loading(PATH)\n",
    "    json_strucure=[\"jobTitle\",\"jobEmployer\",\"jobLocation\",\"jobPostTime\",\"skills\",\\\n",
    "               \"employmentType\",\"baseSalary\",\"jobDescription\",\"url\"]\n",
    "     \n",
    "    print(\"load data\")\n",
    "    \n",
    "    for i, f in enumerate(ori_data):  \n",
    "        data = {} \n",
    "        data[field_names[i]] = []\n",
    "    \n",
    "        for job_num in ori_data[i][field_names[i]][:30]:\n",
    "            \n",
    "            nc_des = getN_Crunk(job_num[\"jobDescription\"])\n",
    "            nc_ski = getN_Crunk(job_num[\"skills\"])\n",
    "        \n",
    "            can_description = get_NC(nc_des)\n",
    "            can_skills = get_NC(nc_ski)\n",
    "        \n",
    "            pl_des = get_pl_keywords(job_num[\"jobDescription\"])\n",
    "            pl_ski = get_pl_keywords(job_num[\"skills\"])\n",
    "        \n",
    "            data[field_names[i]].append({\n",
    "                \"jobTitle\": job_num[\"jobTitle\"],\n",
    "                \"NC\": can_description+ can_skills,\n",
    "                \"PL\": pl_des+ pl_ski, \n",
    "                \"url\": job_num[\"url\"]})\n",
    "        \n",
    "        with open('../Steeve_data/candidates_keyword/Keywords'+field_names[i]+'.txt', 'w') as f:\n",
    "            json.dump(data, f)\n",
    "    \n"
   ]
  },
  {
   "cell_type": "code",
   "execution_count": 5,
   "metadata": {
    "collapsed": true
   },
   "outputs": [],
   "source": [
    "\n",
    "for i, f in enumerate(ori_data):  \n",
    "    \n",
    "    data = {} \n",
    "    data[field_names[i]] = []\n",
    "    \n",
    "    for job_num in ori_data[i][field_names[i]][:30]:\n",
    "        \n",
    "        nc_des = getN_Crunk(job_num[\"jobDescription\"])\n",
    "        nc_ski = getN_Crunk(job_num[\"skills\"])\n",
    "        \n",
    "        \n",
    "        can_description = get_NC(nc_des)\n",
    "        can_skills = get_NC(nc_ski)\n",
    "        \n",
    "        pl_des = get_pl_keywords(job_num[\"jobDescription\"])\n",
    "        pl_ski = get_pl_keywords(job_num[\"skills\"])\n",
    "        \n",
    "        data[field_names[i]].append({\n",
    "            \"jobTitle\": job_num[\"jobTitle\"],\n",
    "            \"NC\": can_description+ can_skills,\n",
    "            \"PL\": pl_des+ pl_ski, \n",
    "            \"url\": job_num[\"url\"]})\n",
    "        \n",
    "    with open('../Steeve_data/candidates_keyword/Keywords'+field_names[i]+'.txt', 'w') as f:\n",
    "        json.dump(data, f)\n",
    "    "
   ]
  },
  {
   "cell_type": "markdown",
   "metadata": {},
   "source": [
    "## combine NT and PL"
   ]
  },
  {
   "cell_type": "markdown",
   "metadata": {},
   "source": [
    "## Testing"
   ]
  },
  {
   "cell_type": "code",
   "execution_count": 6,
   "metadata": {},
   "outputs": [
    {
     "ename": "FileNotFoundError",
     "evalue": "[Errno 2] No such file or directory: '../Steeve_data/candidates_keyword/Keywords_Back_End.txt'",
     "output_type": "error",
     "traceback": [
      "\u001b[0;31m---------------------------------------------------------------------------\u001b[0m",
      "\u001b[0;31mFileNotFoundError\u001b[0m                         Traceback (most recent call last)",
      "\u001b[0;32m<ipython-input-6-5ee2b593a14f>\u001b[0m in \u001b[0;36m<module>\u001b[0;34m()\u001b[0m\n\u001b[0;32m----> 1\u001b[0;31m \u001b[0masd\u001b[0m \u001b[0;34m=\u001b[0m \u001b[0mjson\u001b[0m\u001b[0;34m.\u001b[0m\u001b[0mload\u001b[0m\u001b[0;34m(\u001b[0m\u001b[0mopen\u001b[0m\u001b[0;34m(\u001b[0m\u001b[0;34m'../Steeve_data/candidates_keyword/Keywords_Back_End.txt'\u001b[0m\u001b[0;34m)\u001b[0m\u001b[0;34m)\u001b[0m\u001b[0;34m\u001b[0m\u001b[0m\n\u001b[0m\u001b[1;32m      2\u001b[0m \u001b[0;34m\u001b[0m\u001b[0m\n\u001b[1;32m      3\u001b[0m \u001b[0mtext\u001b[0m \u001b[0;34m=\u001b[0m \u001b[0masd\u001b[0m\u001b[0;34m[\u001b[0m\u001b[0;34m\"Back_End\"\u001b[0m\u001b[0;34m]\u001b[0m\u001b[0;34m\u001b[0m\u001b[0m\n\u001b[1;32m      4\u001b[0m \u001b[0;34m\u001b[0m\u001b[0m\n\u001b[1;32m      5\u001b[0m \u001b[0;31m# print(text[123][\"NC\"])\u001b[0m\u001b[0;34m\u001b[0m\u001b[0;34m\u001b[0m\u001b[0m\n",
      "\u001b[0;31mFileNotFoundError\u001b[0m: [Errno 2] No such file or directory: '../Steeve_data/candidates_keyword/Keywords_Back_End.txt'"
     ]
    }
   ],
   "source": [
    "asd = json.load(open('../Steeve_data/candidates_keyword/Keywords_Back_End.txt'))\n",
    "\n",
    "text = asd[\"Back_End\"]\n",
    "\n",
    "# print(text[123][\"NC\"])\n",
    "for i in text[0][\"NC\"]:\n",
    "    print(i)\n",
    "# print(ori_data[26][\"skills\"])"
   ]
  },
  {
   "cell_type": "code",
   "execution_count": null,
   "metadata": {
    "collapsed": true
   },
   "outputs": [],
   "source": []
  }
 ],
 "metadata": {
  "kernelspec": {
   "display_name": "Python 3",
   "language": "python",
   "name": "python3"
  },
  "language_info": {
   "codemirror_mode": {
    "name": "ipython",
    "version": 3
   },
   "file_extension": ".py",
   "mimetype": "text/x-python",
   "name": "python",
   "nbconvert_exporter": "python",
   "pygments_lexer": "ipython3",
   "version": "3.6.2"
  }
 },
 "nbformat": 4,
 "nbformat_minor": 2
}
