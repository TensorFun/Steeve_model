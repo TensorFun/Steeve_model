{
 "cells": [
  {
   "cell_type": "markdown",
   "metadata": {},
   "source": [
    "# Candidates of keyword"
   ]
  },
  {
   "cell_type": "markdown",
   "metadata": {},
   "source": [
    "## Load model"
   ]
  },
  {
   "cell_type": "code",
   "execution_count": null,
   "metadata": {},
   "outputs": [],
   "source": [
    "# import json\n",
    "# import os\n",
    "# # from training import create_PL\n",
    "# from modules import get_pl_keywords\n",
    "# import requests\n",
    "# from google_map_API import get_location_range"
   ]
  },
  {
   "cell_type": "markdown",
   "metadata": {},
   "source": [
    "## Load data"
   ]
  },
  {
   "cell_type": "code",
   "execution_count": 1,
   "metadata": {},
   "outputs": [],
   "source": [
    "def get_all_raw_pl():\n",
    "    \n",
    "    import json\n",
    "#     from training import create_PL\n",
    "    from modules import get_pl_keywords\n",
    "    import requests\n",
    "    from google_map_API import get_all_location_range\n",
    "     \n",
    "    print(\"load data\")\n",
    "    total_data = [] \n",
    "    r = requests.get('https://steevebot.ml/all')  \n",
    "    ori_data = r.json()\n",
    "    key = list(ori_data.keys())\n",
    "    to_DB = []\n",
    "    all_loc = []\n",
    "    for k in key: \n",
    "        data = []\n",
    "    \n",
    "        for num, job_num in enumerate(ori_data[k]):\n",
    "            if num%500 ==0:\n",
    "                print(num)\n",
    "           \n",
    "            temp=[]\n",
    "\n",
    "            pl_des = get_pl_keywords(job_num[\"jobDescription\"])\n",
    "#                 print(pl_des)\n",
    "            pl_ski = get_pl_keywords(job_num[\"skills\"])\n",
    "#                 print(pl_ski)\n",
    "            data.append(pl_des+pl_ski)\n",
    "            str_data = ''\n",
    "            str_data = \" \".join (pl_des+pl_ski) \n",
    "#                 print(str_data)\n",
    "            \n",
    "              \n",
    "            # location\n",
    "#             str_loc = ''\n",
    "            all_loc.append(job_num['Location'])\n",
    "#             location_range = get_location_range(job_num['Location'])\n",
    "#             str_loc = \" \".join(location_range)\n",
    "            temp.append(job_num[\"JobID\"])\n",
    "            temp.append(k)\n",
    "            temp.append(str_data)\n",
    "            to_DB.append(temp)\n",
    "            \n",
    "            \n",
    "        \n",
    "        total_data.append(data)\n",
    "    #### save PL and location to DB ####\n",
    "    str_loc = get_all_location_range(all_loc)\n",
    "\n",
    "    for n,l in enumerate(to_DB):\n",
    "        s = \",\".join(str_loc[n])\n",
    "        l.append(s)\n",
    "    create_PL(to_DB)\n",
    "    \n",
    "    return total_data"
   ]
  },
  {
   "cell_type": "code",
   "execution_count": null,
   "metadata": {},
   "outputs": [],
   "source": [
    "# r = requests.get('https://steevebot.ml/all')\n",
    "# ori_data = r.json()\n",
    "# key = list(ori_data.keys())\n",
    "print(type(ori_data['Backend'][0]['Location']))"
   ]
  },
  {
   "cell_type": "code",
   "execution_count": null,
   "metadata": {},
   "outputs": [],
   "source": [
    "from google_map_API import get_location_range\n",
    "\n"
   ]
  },
  {
   "cell_type": "code",
   "execution_count": null,
   "metadata": {},
   "outputs": [],
   "source": [
    "get_location_range('taichung')\n",
    "get_location_range('Oklahoma City, OK')"
   ]
  },
  {
   "cell_type": "code",
   "execution_count": null,
   "metadata": {},
   "outputs": [],
   "source": [
    "pwd"
   ]
  },
  {
   "cell_type": "code",
   "execution_count": 2,
   "metadata": {},
   "outputs": [
    {
     "name": "stdout",
     "output_type": "stream",
     "text": [
      "load data\n",
      "0\n",
      "[['413078', 'Backend', 'android android kotlin redux SQLite mobile android mobile android Java kotlin rest mobile sql nosql React mobile kotlin redux Java sql', 'Chicago,Cook County'], ['413097', 'Backend', 'service web mobile this performance process process action performance linux system python Ruby docker kubernetes ansible deployment jvm rest sql protocols deployment git Jenkins linux python Ruby', 'Chicago,Cook County'], ['413887', 'Backend', 'web this web web web this javascript html css frameworks process web web React angular javascript css3 html5 web security xss javascript css javascript ajax dom jsonp web javascript React redux', 'Chicago,Cook County'], ['1804817', 'Backend', 'Java spring hibernate angularjs React interface module validation Java spring angular javascript junit cucumber protractor rabbitmq PostgreSQL Kibana logstash Jenkins docker this website http Java angular', 'Chicago,Cook County'], ['932884', 'Backend', 'system this deployment sharepoint deployment this rest documentation deployment this service process this this resources service associations orientation expression', 'Greenville,Pitt County'], ['NNG14468731', 'Backend', 'python Go Ruby build frontend components build components api open-source this web python Go Ruby api process networking open-source encryption deployment chef ansible docker HERE this this python Go Ruby python Go Ruby', 'Los Angeles,Los Angeles County'], ['413065', 'Backend', 'mobile service mobile interface web mobile this adobe process web mobile system service web mobile this web mobile web web mobile adobe mobile this adobe interface interface web mobile methods web mobile android ios documentation mobile ios android web', 'Silver Spring,13'], ['DO2NNG14469661', 'Backend', 'Go React Go Go process process Go Go system mobile web security system website build system this c Go python Ruby Node.js rest api oracle mysql PostgreSQL package Go HERE this this Go React Go React', 'Santa Monica,Los Angeles County'], ['6326358172', 'Backend', 'frameworks this Java selenium cucumber Java frameworks this Java Java selenium web cucumber frameworks tdd jira sql database database validation web service junit webdriver maven web web selenium cucumber Java web Java', 'Atlanta,Fulton County'], ['413915', 'Backend', 'jersey Java Java build frontend frontend angular html5 css json ajax typescript rest grails web angular html5 css3 javascript jQuery web angular sql Microsoft Excel angular html5 css json ajax typescript web Java angularjs spring hibernate html css javascript', 'New York,New York']]\n"
     ]
    },
    {
     "ename": "ValueError",
     "evalue": "too many values to unpack (expected 2)",
     "output_type": "error",
     "traceback": [
      "\u001b[0;31m---------------------------------------------------------------------------\u001b[0m",
      "\u001b[0;31mValueError\u001b[0m                                Traceback (most recent call last)",
      "\u001b[0;32m<ipython-input-2-287e052711fc>\u001b[0m in \u001b[0;36m<module>\u001b[0;34m()\u001b[0m\n\u001b[0;32m----> 1\u001b[0;31m \u001b[0ma\u001b[0m\u001b[0;34m,\u001b[0m\u001b[0mb\u001b[0m \u001b[0;34m=\u001b[0m \u001b[0mget_all_raw_pl\u001b[0m\u001b[0;34m(\u001b[0m\u001b[0;34m)\u001b[0m\u001b[0;34m\u001b[0m\u001b[0m\n\u001b[0m\u001b[1;32m      2\u001b[0m \u001b[0;34m\u001b[0m\u001b[0m\n",
      "\u001b[0;31mValueError\u001b[0m: too many values to unpack (expected 2)"
     ]
    }
   ],
   "source": [
    "a,b = get_all_raw_pl()\n",
    "\n"
   ]
  },
  {
   "cell_type": "code",
   "execution_count": null,
   "metadata": {},
   "outputs": [],
   "source": [
    "for k in key:\n",
    "    print(k)\n",
    "print(key[0])"
   ]
  },
  {
   "cell_type": "code",
   "execution_count": null,
   "metadata": {},
   "outputs": [],
   "source": [
    "def training_DNN():\n",
    "    from DNN_model import get_Dnn_model\n",
    "    total_data = get_all_raw_pl()\n",
    "    \n",
    "    # training DNN model\n",
    "    get_Dnn_model(total_data)\n",
    "    \n",
    "def get_jobs(cv):\n",
    "    from DNN_model import get_predict_field\n",
    "    from modules import get_pl_keywords,top_k\n",
    "\n",
    "    import TFIDF\n",
    "    from google_map_API import location_filter\n",
    "    \n",
    "    try:\n",
    "        pl_cnt = TFIDF.TFIDF.tfidf_dict\n",
    "        \n",
    "        print('pl_cnt exists')\n",
    "    except:\n",
    "        total_data = get_all_raw_pl()\n",
    "        pl_cnt, word = TFIDF.TFIDF(total_data).get_tfidf()\n",
    "        \n",
    "    \n",
    "    cv_PL = get_pl_keywords(cv)\n",
    "    predict_field = get_predict_field(cv_PL,pl_cnt)\n",
    "    \n",
    "    #### get field data from DB ####\n",
    "    p = get_field_PL(predict_field)\n",
    "    posts_predict_field = []\n",
    "    \n",
    "    ### location filter\n",
    "#    ,{'location':j.PL_location }\n",
    "    for j in p:\n",
    "        if location_filter(user_location,j.PL_location):\n",
    "            posts_predict_field.append({'id':j.Job.job_ID},{'PL':j.PL})\n",
    "    # posts_predict_field = GET DB DATA\n",
    "    \n",
    "    job_candidates = pick_k_jobs(cv_PL, posts_predict_field)\n",
    "    \n",
    "# def get_applicants():\n",
    "    "
   ]
  },
  {
   "cell_type": "code",
   "execution_count": null,
   "metadata": {},
   "outputs": [],
   "source": [
    "get_jobs('i like to write javascript and html. i am good at css. i want to be in java.')"
   ]
  },
  {
   "cell_type": "code",
   "execution_count": null,
   "metadata": {},
   "outputs": [],
   "source": [
    "training_DNN()"
   ]
  },
  {
   "cell_type": "code",
   "execution_count": null,
   "metadata": {},
   "outputs": [],
   "source": [
    "x = dict({'s':'12'})\n",
    "print(x['s'])"
   ]
  },
  {
   "cell_type": "code",
   "execution_count": null,
   "metadata": {},
   "outputs": [],
   "source": [
    "for i in data[0]:\n",
    "    print(i)\n",
    "# print(data[0])"
   ]
  },
  {
   "cell_type": "code",
   "execution_count": null,
   "metadata": {},
   "outputs": [],
   "source": [
    "tf_idf = TFIDF(total_pl)\n",
    "# from TFIDF import tf_idf\n",
    "pl_cnt, words = tf_idf.get_tfidf()\n",
    "print(pl_cnt)"
   ]
  },
  {
   "cell_type": "code",
   "execution_count": null,
   "metadata": {},
   "outputs": [],
   "source": [
    "#### Return jobID, Field,PL[]"
   ]
  }
 ],
 "metadata": {
  "kernelspec": {
   "display_name": "Python 3",
   "language": "python",
   "name": "python3"
  },
  "language_info": {
   "codemirror_mode": {
    "name": "ipython",
    "version": 3
   },
   "file_extension": ".py",
   "mimetype": "text/x-python",
   "name": "python",
   "nbconvert_exporter": "python",
   "pygments_lexer": "ipython3",
   "version": "3.5.4"
  }
 },
 "nbformat": 4,
 "nbformat_minor": 2
}
