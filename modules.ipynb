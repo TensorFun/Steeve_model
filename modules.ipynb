{
 "cells": [
  {
   "cell_type": "code",
   "execution_count": 1,
   "metadata": {
    "collapsed": true
   },
   "outputs": [],
   "source": [
    "# Extract PL\n",
    "\n",
    "from flashtext import KeywordProcessor\n",
    "\n",
    "pls = open('Rule.txt', 'r', encoding='utf8').read().split('\\n')\n",
    "\n",
    "keyword_processor = KeywordProcessor()\n",
    "keyword_processor.add_keywords_from_list(pls)\n",
    "\n",
    "def get_pl_keywords(content):\n",
    "    return keyword_processor.extract_keywords(content)\n",
    "\n",
    "def norm_pls(pls):\n",
    "    '''\n",
    "    Params: ['pl_A', 'pl_B', 'pl_C']\n",
    "    \n",
    "    Returns: list for normalized pls\n",
    "    '''\n",
    "    return [pl.lower().replace(' ', '_').replace('.js', '') for pl in pls]"
   ]
  },
  {
   "cell_type": "code",
   "execution_count": 4,
   "metadata": {},
   "outputs": [],
   "source": [
    "def pick_top_k(target_pls, dataset, k=100):\n",
    "    '''\n",
    "    Params:\n",
    "    - target_pls (from user's pls or company requirement): ['pl_A', 'pl_B', 'pl_C']\n",
    "    - dataset: every post's or candidate's pls [{id, pl}, {id, pl}, {id, pl}]\n",
    "    - k: return top k jobs and must match at least one pl\n",
    "    \n",
    "    Return: Top k or 100 jobs in suitable order\n",
    "    '''\n",
    "    matches = [len(set(target_pls).intersection(set(each['PL']))) for each in dataset]\n",
    "\n",
    "    top = sorted(zip(dataset, matches), key=lambda pair: pair[1], reverse=True)\n",
    "    top_k = filter(lambda pair: pair[1] > 0, top[:k])\n",
    "    top_k = list(map(lambda pair: pair[0], top_k))\n",
    "    return top_k"
   ]
  },
  {
   "cell_type": "code",
   "execution_count": 6,
   "metadata": {},
   "outputs": [
    {
     "data": {
      "text/plain": [
       "[{'PL': ['A', 'B', 'C', 'D'], 'id': 12}, {'PL': ['A', 'B'], 'id': 1}]"
      ]
     },
     "execution_count": 6,
     "metadata": {},
     "output_type": "execute_result"
    }
   ],
   "source": [
    "# pick_top_k(['A','B','C'], [{'id': 1, 'PL': ['A','B']}, {'id': 12, 'PL': ['A', 'B', 'C' ,'D']}, {'id': 3, 'PL': ['E']}])"
   ]
  },
  {
   "cell_type": "code",
   "execution_count": null,
   "metadata": {
    "collapsed": true
   },
   "outputs": [],
   "source": []
  },
  {
   "cell_type": "code",
   "execution_count": null,
   "metadata": {
    "collapsed": true
   },
   "outputs": [],
   "source": []
  }
 ],
 "metadata": {
  "kernelspec": {
   "display_name": "Python 3",
   "language": "python",
   "name": "python3"
  },
  "language_info": {
   "codemirror_mode": {
    "name": "ipython",
    "version": 3
   },
   "file_extension": ".py",
   "mimetype": "text/x-python",
   "name": "python",
   "nbconvert_exporter": "python",
   "pygments_lexer": "ipython3",
   "version": "3.6.3"
  }
 },
 "nbformat": 4,
 "nbformat_minor": 2
}
