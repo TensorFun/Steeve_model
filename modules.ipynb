{
 "cells": [
  {
   "cell_type": "code",
   "execution_count": 10,
   "metadata": {
    "collapsed": true
   },
   "outputs": [],
   "source": [
    "# Extract PL\n",
    "\n",
    "from flashtext import KeywordProcessor\n",
    "\n",
    "pls = open('Rule.txt', 'r', encoding='utf8').read().split('\\n')\n",
    "\n",
    "keyword_processor = KeywordProcessor()\n",
    "keyword_processor.add_keywords_from_list(pls)\n",
    "\n",
    "def get_pl_keywords(content):\n",
    "    return keyword_processor.extract_keywords(content)\n",
    "\n",
    "def norm_pls(pls):\n",
    "    '''\n",
    "    Params: ['pl_A', 'pl_B', 'pl_C']\n",
    "    \n",
    "    Returns: list for normalized pls\n",
    "    '''\n",
    "    return [pl.lower().replace(' ', '_').replace('.js', '') for pl in pls]"
   ]
  }
 ],
 "metadata": {
  "kernelspec": {
   "display_name": "Python 3",
   "language": "python",
   "name": "python3"
  },
  "language_info": {
   "codemirror_mode": {
    "name": "ipython",
    "version": 3
   },
   "file_extension": ".py",
   "mimetype": "text/x-python",
   "name": "python",
   "nbconvert_exporter": "python",
   "pygments_lexer": "ipython3",
   "version": "3.6.3"
  }
 },
 "nbformat": 4,
 "nbformat_minor": 2
}
