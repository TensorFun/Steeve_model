{
 "cells": [
  {
   "cell_type": "code",
   "execution_count": 1,
   "metadata": {
    "collapsed": true
   },
   "outputs": [],
   "source": [
    "# Extract PL\n",
    "\n",
    "from flashtext import KeywordProcessor\n",
    "\n",
    "pls = open('Rule.txt', 'r', encoding='utf8').read().split('\\n')\n",
    "\n",
    "keyword_processor = KeywordProcessor()\n",
    "keyword_processor.add_keywords_from_list(pls)\n",
    "\n",
    "def get_pl_keywords(content):\n",
    "    return keyword_processor.extract_keywords(content)\n",
    "\n",
    "def norm_pls(pls):\n",
    "    '''\n",
    "    Params: ['pl_A', 'pl_B', 'pl_C']\n",
    "    \n",
    "    Returns: list for normalized pls\n",
    "    '''\n",
    "    return [pl.lower().replace(' ', '_').replace('.js', '') for pl in pls]"
   ]
  },
  {
   "cell_type": "code",
   "execution_count": 26,
   "metadata": {
    "collapsed": true
   },
   "outputs": [],
   "source": [
    "from sklearn.metrics.pairwise import cosine_similarity\n",
    "\n",
    "def pick_k_jobs(user_pls, posts, k=100):\n",
    "    '''\n",
    "    Params:\n",
    "    - user_pls: ['pl_A', 'pl_B', 'pl_C']\n",
    "    - posts: every post's pls in specific field [{id, pl}, {id, pl}, {id, pl}]\n",
    "    - k: return top k jobs and must match at least one pl\n",
    "    \n",
    "    Return: Top 100 jobs in suitable order\n",
    "    '''\n",
    "    matches = [len(set(user_pls).intersection(set(post['PL']))) for post in posts]\n",
    "\n",
    "    top_jobs = sorted(zip(posts, matches), key=lambda pair: pair[1], reverse=True)\n",
    "    top_k_jobs = filter(lambda pair: pair[1] > 0, top_jobs[:k])\n",
    "    top_k_jobs = list(map(lambda pair: pair[0], top_k_jobs))\n",
    "    return top_k_jobs"
   ]
  },
  {
   "cell_type": "code",
   "execution_count": 28,
   "metadata": {},
   "outputs": [
    {
     "data": {
      "text/plain": [
       "[{'PL': ['A', 'B'], 'id': 1}]"
      ]
     },
     "execution_count": 28,
     "metadata": {},
     "output_type": "execute_result"
    }
   ],
   "source": [
    "# pick_k_jobs(['A','B','C'], [{'id': 1, 'PL': ['A','B']}, {'id': 12, 'PL': ['D']}, {'id': 3, 'PL': ['E']}])"
   ]
  },
  {
   "cell_type": "code",
   "execution_count": null,
   "metadata": {
    "collapsed": true
   },
   "outputs": [],
   "source": []
  },
  {
   "cell_type": "code",
   "execution_count": null,
   "metadata": {
    "collapsed": true
   },
   "outputs": [],
   "source": []
  }
 ],
 "metadata": {
  "kernelspec": {
   "display_name": "Python 3",
   "language": "python",
   "name": "python3"
  },
  "language_info": {
   "codemirror_mode": {
    "name": "ipython",
    "version": 3
   },
   "file_extension": ".py",
   "mimetype": "text/x-python",
   "name": "python",
   "nbconvert_exporter": "python",
   "pygments_lexer": "ipython3",
   "version": "3.6.3"
  }
 },
 "nbformat": 4,
 "nbformat_minor": 2
}
