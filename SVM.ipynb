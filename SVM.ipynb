{
 "cells": [
  {
   "cell_type": "code",
   "execution_count": 2,
   "metadata": {
    "collapsed": true
   },
   "outputs": [],
   "source": [
    "import numpy as np\n",
    "from sklearn import feature_extraction, svm, metrics\n",
    "from pyfasttext import FastText\n",
    "\n",
    "class SVM:\n",
    "    def __init__(self, TFIDF): # TODO: plz give me the model or using global singleton\n",
    "        self.model = FastText('wiki.en.bin')\n",
    "        self.TFIDF = TFIDF\n",
    "        self.tfidf_dict, self.words = TFIDF.get_tfidf()\n",
    "    \n",
    "    def set_tfidf(self, TFIDF):\n",
    "        self.TFIDF = TFIDF\n",
    "        self.tfidf_dict, self.words = TFIDF.get_tfidf()\n",
    "    \n",
    "    def to_feature(self, X):\n",
    "        new_X = [vec(self.TFIDF.predict_field(post), post) for post in X]\n",
    "        \n",
    "    def vec(self, field_index, post):\n",
    "        v = np.zeros(300)\n",
    "        post = set(post) # make unique\n",
    "        for pl in post:\n",
    "            if pl != '' and pl in self.words:\n",
    "                v += model.get_numpy_vector(pl) * tfidf_score[field_index][pl]\n",
    "        return v\n",
    "    \n",
    "    def train(self, X, y):\n",
    "        # 建立 SVC 模型\n",
    "        self.svc = svm.SVC()\n",
    "        svc_fit = self.svc.fit(to_feature(X), y)\n",
    "\n",
    "    def predict(self, post):\n",
    "        return self.svc.predict(to_feature([post]))\n",
    "        "
   ]
  },
  {
   "cell_type": "code",
   "execution_count": null,
   "metadata": {
    "collapsed": true
   },
   "outputs": [],
   "source": []
  },
  {
   "cell_type": "code",
   "execution_count": null,
   "metadata": {
    "collapsed": true
   },
   "outputs": [],
   "source": []
  }
 ],
 "metadata": {
  "kernelspec": {
   "display_name": "Python 3",
   "language": "python",
   "name": "python3"
  },
  "language_info": {
   "codemirror_mode": {
    "name": "ipython",
    "version": 3
   },
   "file_extension": ".py",
   "mimetype": "text/x-python",
   "name": "python",
   "nbconvert_exporter": "python",
   "pygments_lexer": "ipython3",
   "version": "3.6.3"
  }
 },
 "nbformat": 4,
 "nbformat_minor": 2
}
